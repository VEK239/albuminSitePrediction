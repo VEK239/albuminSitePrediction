{
 "cells": [
  {
   "cell_type": "code",
   "execution_count": 1,
   "metadata": {},
   "outputs": [],
   "source": [
    "import os,sys,inspect\n",
    "currentdir = os.path.dirname(os.path.abspath(inspect.getfile(inspect.currentframe())))\n",
    "parentdir = os.path.dirname(currentdir)\n",
    "sys.path.insert(0,parentdir) "
   ]
  },
  {
   "cell_type": "code",
   "execution_count": 2,
   "metadata": {},
   "outputs": [],
   "source": [
    "from scripts.baseline_model import MoleculeModel\n",
    "from scripts.utils import generate_descriptors\n",
    "from collections import defaultdict\n",
    "from tqdm.notebook import tqdm\n",
    "import numpy as np\n",
    "import pandas as pd"
   ]
  },
  {
   "cell_type": "code",
   "execution_count": 3,
   "metadata": {},
   "outputs": [],
   "source": [
    "data_train_val = pd.read_csv('../data/split/data_train_val.csv')\n",
    "data_test = pd.read_csv('../data/split/data_test.csv')"
   ]
  },
  {
   "cell_type": "code",
   "execution_count": 4,
   "metadata": {},
   "outputs": [],
   "source": [
    "TARGET_COLUMN = 'active'\n",
    "FP_SIZE = 256\n",
    "FP_RADIUS = 2"
   ]
  },
  {
   "cell_type": "code",
   "execution_count": 5,
   "metadata": {},
   "outputs": [
    {
     "data": {
      "application/vnd.jupyter.widget-view+json": {
       "model_id": "b04dc4ae90904432a5117000404119b9",
       "version_major": 2,
       "version_minor": 0
      },
      "text/plain": [
       "  0%|          | 0/388 [00:00<?, ?it/s]"
      ]
     },
     "metadata": {},
     "output_type": "display_data"
    },
    {
     "data": {
      "application/vnd.jupyter.widget-view+json": {
       "model_id": "c2234f47ab05483f839f614e873e272d",
       "version_major": 2,
       "version_minor": 0
      },
      "text/plain": [
       "  0%|          | 0/98 [00:00<?, ?it/s]"
      ]
     },
     "metadata": {},
     "output_type": "display_data"
    }
   ],
   "source": [
    "data_train_val = generate_descriptors(data_train_val, fp_size=FP_SIZE, fp_radius=FP_RADIUS)\n",
    "data_test = generate_descriptors(data_test, fp_size=FP_SIZE, fp_radius=FP_RADIUS)"
   ]
  },
  {
   "cell_type": "markdown",
   "metadata": {},
   "source": [
    "## Final model selection"
   ]
  },
  {
   "cell_type": "code",
   "execution_count": 6,
   "metadata": {},
   "outputs": [],
   "source": [
    "from sklearn.model_selection import train_test_split, StratifiedKFold\n",
    "from sklearn.preprocessing import MinMaxScaler\n",
    "from ITMO_FS.embedded import MOS"
   ]
  },
  {
   "cell_type": "code",
   "execution_count": 7,
   "metadata": {},
   "outputs": [],
   "source": [
    "X_train_val = data_train_val.drop(columns = [TARGET_COLUMN, 'smiles'])\n",
    "X_test = data_test.drop(columns = [TARGET_COLUMN, 'smiles'])\n",
    "y_train_val = data_train_val.active\n",
    "y_test = data_test.active"
   ]
  },
  {
   "cell_type": "code",
   "execution_count": 9,
   "metadata": {},
   "outputs": [],
   "source": [
    "cols = pd.concat([X_train_val, X_test]).columns"
   ]
  },
  {
   "cell_type": "code",
   "execution_count": 10,
   "metadata": {},
   "outputs": [],
   "source": [
    "scaler = MinMaxScaler()\n",
    "scaler.fit(pd.concat([X_train_val, X_test]))\n",
    "X_train_val = scaler.transform(X_train_val)\n",
    "X_test = scaler.transform(X_test)"
   ]
  },
  {
   "cell_type": "code",
   "execution_count": 11,
   "metadata": {},
   "outputs": [],
   "source": [
    "mos = MOS()\n",
    "\n",
    "mos.fit(np.concatenate([X_train_val, X_test], axis=0), pd.concat([y_train_val, y_test]).to_numpy(), feature_names=data_train_val.columns)\n",
    "X_train_val = mos.transform(X_train_val)\n",
    "X_test = mos.transform(X_test)"
   ]
  },
  {
   "cell_type": "code",
   "execution_count": 33,
   "metadata": {},
   "outputs": [],
   "source": [
    "X = np.concatenate([X_train_val, X_test])\n",
    "y = pd.concat([y_train_val, y_test])"
   ]
  },
  {
   "cell_type": "code",
   "execution_count": 12,
   "metadata": {},
   "outputs": [
    {
     "name": "stdout",
     "output_type": "stream",
     "text": [
      "FpDensityMorgan1\n",
      "BCUT2D_MWHI\n",
      "BCUT2D_MRHI\n",
      "RingCount\n",
      "#amine\n",
      "CNS\n",
      "PISA\n",
      "glob\n",
      "QPlogPC16\n",
      "QPlogPo/w\n",
      "QPlogS\n",
      "CIQPlogS\n",
      "QPlogKp\n",
      "EA(eV)\n",
      "QPlogKhsa\n",
      "HumanOralAbsorption\n",
      "PercentHumanOralAbsorption\n",
      "#ringatoms\n",
      "#in56\n"
     ]
    }
   ],
   "source": [
    "for i, col in enumerate(cols):\n",
    "    if i in mos.selected_features:\n",
    "        print(col)"
   ]
  },
  {
   "cell_type": "code",
   "execution_count": 13,
   "metadata": {},
   "outputs": [
    {
     "data": {
      "text/plain": [
       "(372, 19)"
      ]
     },
     "execution_count": 13,
     "metadata": {},
     "output_type": "execute_result"
    }
   ],
   "source": [
    "X_train_val.shape"
   ]
  },
  {
   "cell_type": "code",
   "execution_count": 14,
   "metadata": {},
   "outputs": [],
   "source": [
    "skf = StratifiedKFold(n_splits=4,  random_state=42, shuffle=True)"
   ]
  },
  {
   "cell_type": "code",
   "execution_count": 15,
   "metadata": {},
   "outputs": [],
   "source": [
    "def get_model(model):\n",
    "    '''\n",
    "    Get the model from six state-of-the-art machine learning models.\n",
    "    '''\n",
    "    if model=='svm':\n",
    "        from sklearn.svm import SVC\n",
    "        names = [\"Linear SVM\"]\n",
    "        classifiers = [\n",
    "        SVC()    \n",
    "        ]\n",
    "    elif model=='ab':\n",
    "        from sklearn.ensemble import AdaBoostClassifier\n",
    "        names = [\"AdaBoost\"]\n",
    "        classifiers = [\n",
    "        AdaBoostClassifier() \n",
    "        ]\n",
    "    elif model=='knn':\n",
    "        from sklearn.neighbors import KNeighborsClassifier\n",
    "        names = [\"K-Nearest Neighbors\"]\n",
    "        classifiers = [\n",
    "        KNeighborsClassifier()\n",
    "        ]\n",
    "    elif model=='rfc':\n",
    "        from sklearn.ensemble import RandomForestClassifier\n",
    "        names = [\"Random Forest\"]\n",
    "        classifiers = [\n",
    "        RandomForestClassifier()\n",
    "        ]\n",
    "    elif model=='xgboost':\n",
    "        from xgboost import XGBClassifier\n",
    "        names = [\"XGBoost\"]\n",
    "        classifiers = [\n",
    "        XGBClassifier()\n",
    "        ]\n",
    "    elif model=='mlpclassifier':\n",
    "        from sklearn.neural_network import MLPClassifier\n",
    "        names = [\"MLPClassifier\"]\n",
    "        classifiers = [\n",
    "        MLPClassifier()\n",
    "        ]\n",
    "    else:\n",
    "        raise RuntimeError('Unknown classifier')\n",
    "    \n",
    "    return classifiers"
   ]
  },
  {
   "cell_type": "code",
   "execution_count": 16,
   "metadata": {},
   "outputs": [],
   "source": [
    "parameters = {\n",
    "              'svm': {'model__C': (1, 5, 10, 50, 100), 'model__probability': [True]}, \n",
    "              'ab': {'model__n_estimators': (10, 25, 50, 100, 125, 150, 200)}, \n",
    "              'knn': {'model__n_neighbors': (3, 5, 10, 50, 75, 100), 'model__leaf_size': (1, 2, 3, 5, 10, 15, 20), \n",
    "                      'model__weights': ['uniform', 'distance']}, \n",
    "              'rfc': {'model__max_depth': (2, 3, 5, 7, 10), 'model__n_estimators': (50, 100, 150, 200),\n",
    "                     'model__min_samples_leaf': (1, 3, 5, 10)},\n",
    "              'mlpclassifier': {'model__hidden_layer_sizes': (\n",
    "                                  (25, 50, 25, 10), \n",
    "                                  (10, 15, 10),\n",
    "                                  (30, 50, 20, 10)),\n",
    "                                'model__alpha': (0.0001, 0.001, 0.00001, 0.01), \n",
    "                                'model__learning_rate': ['constant', 'adaptive'],\n",
    "                                'model__max_iter': [500]\n",
    "                               },\n",
    "              'xgboost': {'model__n_estimators': (10, 25, 50, 100)}\n",
    "            }"
   ]
  },
  {
   "cell_type": "code",
   "execution_count": 17,
   "metadata": {},
   "outputs": [],
   "source": [
    "from imblearn.pipeline import Pipeline, make_pipeline\n",
    "from sklearn.model_selection import GridSearchCV\n",
    "from sklearn.metrics import roc_auc_score, f1_score, accuracy_score"
   ]
  },
  {
   "cell_type": "code",
   "execution_count": 18,
   "metadata": {},
   "outputs": [
    {
     "name": "stdout",
     "output_type": "stream",
     "text": [
      "Best params for svm: {'model__C': 1, 'model__probability': True}\n",
      "Test ROC AUC for the best model 0.92\n",
      "Test accuracy for the best model 0.85\n",
      "Test f1-score for the best model 0.91\n",
      "\n",
      "Best params for ab: {'model__n_estimators': 10}\n",
      "Test ROC AUC for the best model 0.91\n",
      "Test accuracy for the best model 0.85\n",
      "Test f1-score for the best model 0.90\n",
      "\n",
      "Best params for knn: {'model__leaf_size': 1, 'model__n_neighbors': 75, 'model__weights': 'distance'}\n",
      "Test ROC AUC for the best model 0.95\n",
      "Test accuracy for the best model 0.84\n",
      "Test f1-score for the best model 0.91\n",
      "\n",
      "Best params for rfc: {'model__max_depth': 2, 'model__min_samples_leaf': 5, 'model__n_estimators': 100}\n",
      "Test ROC AUC for the best model 0.93\n",
      "Test accuracy for the best model 0.87\n",
      "Test f1-score for the best model 0.92\n",
      "\n"
     ]
    },
    {
     "name": "stderr",
     "output_type": "stream",
     "text": [
      "/home/lizzka239/anaconda3/envs/rdkit/lib/python3.9/site-packages/sklearn/neural_network/_multilayer_perceptron.py:614: ConvergenceWarning: Stochastic Optimizer: Maximum iterations (500) reached and the optimization hasn't converged yet.\n",
      "  warnings.warn(\n"
     ]
    },
    {
     "name": "stdout",
     "output_type": "stream",
     "text": [
      "Best params for mlpclassifier: {'model__alpha': 0.0001, 'model__hidden_layer_sizes': (10, 15, 10), 'model__learning_rate': 'adaptive', 'model__max_iter': 500}\n",
      "Test ROC AUC for the best model 0.93\n",
      "Test accuracy for the best model 0.89\n",
      "Test f1-score for the best model 0.93\n",
      "\n",
      "[11:48:42] WARNING: ../src/learner.cc:1095: Starting in XGBoost 1.3.0, the default evaluation metric used with the objective 'binary:logistic' was changed from 'error' to 'logloss'. Explicitly set eval_metric if you'd like to restore the old behavior.\n",
      "Best params for xgboost: {'model__n_estimators': 100}\n",
      "Test ROC AUC for the best model 0.88\n",
      "Test accuracy for the best model 0.81\n",
      "Test f1-score for the best model 0.88\n",
      "\n"
     ]
    },
    {
     "name": "stderr",
     "output_type": "stream",
     "text": [
      "/home/lizzka239/anaconda3/envs/rdkit/lib/python3.9/site-packages/xgboost/sklearn.py:1146: UserWarning: The use of label encoder in XGBClassifier is deprecated and will be removed in a future release. To remove this warning, do the following: 1) Pass option use_label_encoder=False when constructing XGBClassifier object; and 2) Encode your labels (y) as integers starting with 0, i.e. 0, 1, 2, ..., [num_class - 1].\n",
      "  warnings.warn(label_encoder_deprecation_msg, UserWarning)\n",
      "/home/lizzka239/anaconda3/envs/rdkit/lib/python3.9/site-packages/xgboost/data.py:112: UserWarning: Use subset (sliced data) of np.ndarray is not recommended because it will generate extra copies and increase memory consumption\n",
      "  warnings.warn(\n",
      "/home/lizzka239/anaconda3/envs/rdkit/lib/python3.9/site-packages/xgboost/data.py:112: UserWarning: Use subset (sliced data) of np.ndarray is not recommended because it will generate extra copies and increase memory consumption\n",
      "  warnings.warn(\n",
      "/home/lizzka239/anaconda3/envs/rdkit/lib/python3.9/site-packages/xgboost/data.py:112: UserWarning: Use subset (sliced data) of np.ndarray is not recommended because it will generate extra copies and increase memory consumption\n",
      "  warnings.warn(\n"
     ]
    }
   ],
   "source": [
    "best_clfs_encode = {}\n",
    "for name, param in parameters.items():\n",
    "    model = get_model(name)[0]\n",
    "    \n",
    "    steps = [('model', model)]\n",
    "\n",
    "    pipeline = Pipeline(steps=steps)\n",
    "    clf = GridSearchCV(pipeline, param, scoring='roc_auc', cv=skf, n_jobs=-1)\n",
    "    clf.fit(X_train_val, y_train_val)\n",
    "\n",
    "    print(f'Best params for {name}:', clf.best_params_)\n",
    "    pipe = clf.best_estimator_['model']\n",
    "\n",
    "    print('Test ROC AUC for the best model %.2f' % roc_auc_score(y_test, pipe.predict_proba(X_test)[:,1]))\n",
    "    print('Test accuracy for the best model %.2f' % accuracy_score(y_test, pipe.predict(X_test)))\n",
    "    print('Test f1-score for the best model %.2f' % f1_score(y_test, pipe.predict(X_test)))\n",
    "    print()\n",
    "    best_clfs_encode[name] = clf.best_estimator_"
   ]
  },
  {
   "cell_type": "markdown",
   "metadata": {},
   "source": [
    "## Best model to test"
   ]
  },
  {
   "cell_type": "code",
   "execution_count": 100,
   "metadata": {},
   "outputs": [],
   "source": [
    "from sklearn.neighbors import KNeighborsClassifier\n",
    "from sklearn.ensemble import RandomForestClassifier"
   ]
  },
  {
   "cell_type": "code",
   "execution_count": 101,
   "metadata": {},
   "outputs": [
    {
     "data": {
      "text/plain": [
       "RandomForestClassifier(max_depth=10, min_samples_leaf=10, n_estimators=50)"
      ]
     },
     "execution_count": 101,
     "metadata": {},
     "output_type": "execute_result"
    }
   ],
   "source": [
    "# model = KNeighborsClassifier(leaf_size=1, n_neighbors=75, weights='distance')\n",
    "model = RandomForestClassifier(max_depth=10, min_samples_leaf=10, n_estimators=50)\n",
    "model.fit(X, y)"
   ]
  },
  {
   "cell_type": "code",
   "execution_count": 102,
   "metadata": {},
   "outputs": [],
   "source": [
    "test_data = pd.read_csv('../data/preprocessed/custom_test_data.csv')"
   ]
  },
  {
   "cell_type": "code",
   "execution_count": 103,
   "metadata": {},
   "outputs": [
    {
     "data": {
      "application/vnd.jupyter.widget-view+json": {
       "model_id": "80a3fe84ea9048e1953746ba4ab36e0d",
       "version_major": 2,
       "version_minor": 0
      },
      "text/plain": [
       "  0%|          | 0/319 [00:00<?, ?it/s]"
      ]
     },
     "metadata": {},
     "output_type": "display_data"
    }
   ],
   "source": [
    "test_data = generate_descriptors(test_data, fp_size=FP_SIZE, fp_radius=FP_RADIUS)"
   ]
  },
  {
   "cell_type": "code",
   "execution_count": 104,
   "metadata": {},
   "outputs": [
    {
     "data": {
      "text/plain": [
       "(283, 260)"
      ]
     },
     "execution_count": 104,
     "metadata": {},
     "output_type": "execute_result"
    }
   ],
   "source": [
    "test_data.shape"
   ]
  },
  {
   "cell_type": "code",
   "execution_count": 106,
   "metadata": {},
   "outputs": [
    {
     "data": {
      "text/html": [
       "<div>\n",
       "<style scoped>\n",
       "    .dataframe tbody tr th:only-of-type {\n",
       "        vertical-align: middle;\n",
       "    }\n",
       "\n",
       "    .dataframe tbody tr th {\n",
       "        vertical-align: top;\n",
       "    }\n",
       "\n",
       "    .dataframe thead th {\n",
       "        text-align: right;\n",
       "    }\n",
       "</style>\n",
       "<table border=\"1\" class=\"dataframe\">\n",
       "  <thead>\n",
       "    <tr style=\"text-align: right;\">\n",
       "      <th></th>\n",
       "      <th>smiles</th>\n",
       "      <th>fp1</th>\n",
       "      <th>fp0</th>\n",
       "      <th>MaxEStateIndex</th>\n",
       "      <th>MinEStateIndex</th>\n",
       "      <th>MaxAbsEStateIndex</th>\n",
       "      <th>MinAbsEStateIndex</th>\n",
       "      <th>qed</th>\n",
       "      <th>MolWt</th>\n",
       "      <th>HeavyAtomMolWt</th>\n",
       "      <th>...</th>\n",
       "      <th>SAamideO</th>\n",
       "      <th>PSA</th>\n",
       "      <th>#NandO</th>\n",
       "      <th>RuleOfFive</th>\n",
       "      <th>RuleOfThree</th>\n",
       "      <th>#ringatoms</th>\n",
       "      <th>#in34</th>\n",
       "      <th>#in56</th>\n",
       "      <th>#noncon</th>\n",
       "      <th>#nonHatm</th>\n",
       "    </tr>\n",
       "  </thead>\n",
       "  <tbody>\n",
       "    <tr>\n",
       "      <th>0</th>\n",
       "      <td>CC(=O)C[C@H](c1c(=O)oc2c(c1O)cccc2)c1ccccc1</td>\n",
       "      <td>1</td>\n",
       "      <td>1</td>\n",
       "      <td>12.412307</td>\n",
       "      <td>-0.614534</td>\n",
       "      <td>12.412307</td>\n",
       "      <td>0.064063</td>\n",
       "      <td>0.747626</td>\n",
       "      <td>308.333</td>\n",
       "      <td>292.205</td>\n",
       "      <td>...</td>\n",
       "      <td>0.000</td>\n",
       "      <td>80.224</td>\n",
       "      <td>4.0</td>\n",
       "      <td>0.0</td>\n",
       "      <td>0.0</td>\n",
       "      <td>16.0</td>\n",
       "      <td>0.0</td>\n",
       "      <td>16.0</td>\n",
       "      <td>0.0</td>\n",
       "      <td>23.0</td>\n",
       "    </tr>\n",
       "    <tr>\n",
       "      <th>1</th>\n",
       "      <td>CCN(Cc1cc(ccc1O)Nc1ccnc2c1ccc(c2)Cl)CC.Cl</td>\n",
       "      <td>1</td>\n",
       "      <td>1</td>\n",
       "      <td>10.164167</td>\n",
       "      <td>0.000000</td>\n",
       "      <td>10.164167</td>\n",
       "      <td>0.000000</td>\n",
       "      <td>0.536296</td>\n",
       "      <td>392.330</td>\n",
       "      <td>369.146</td>\n",
       "      <td>...</td>\n",
       "      <td>0.000</td>\n",
       "      <td>47.193</td>\n",
       "      <td>4.0</td>\n",
       "      <td>0.0</td>\n",
       "      <td>0.0</td>\n",
       "      <td>16.0</td>\n",
       "      <td>0.0</td>\n",
       "      <td>16.0</td>\n",
       "      <td>0.0</td>\n",
       "      <td>25.0</td>\n",
       "    </tr>\n",
       "    <tr>\n",
       "      <th>2</th>\n",
       "      <td>CCN1CCN(C(=O)C1=O)C(=O)N[C@@H](C(=O)N[C@@H]1C(...</td>\n",
       "      <td>1</td>\n",
       "      <td>1</td>\n",
       "      <td>13.319493</td>\n",
       "      <td>-1.261722</td>\n",
       "      <td>13.319493</td>\n",
       "      <td>0.020020</td>\n",
       "      <td>0.344807</td>\n",
       "      <td>517.564</td>\n",
       "      <td>490.348</td>\n",
       "      <td>...</td>\n",
       "      <td>81.593</td>\n",
       "      <td>201.233</td>\n",
       "      <td>12.0</td>\n",
       "      <td>2.0</td>\n",
       "      <td>1.0</td>\n",
       "      <td>19.0</td>\n",
       "      <td>4.0</td>\n",
       "      <td>15.0</td>\n",
       "      <td>6.0</td>\n",
       "      <td>36.0</td>\n",
       "    </tr>\n",
       "    <tr>\n",
       "      <th>3</th>\n",
       "      <td>OC(=O)c1ccccc1Nc1cccc(c1)C(F)(F)F</td>\n",
       "      <td>1</td>\n",
       "      <td>1</td>\n",
       "      <td>12.592279</td>\n",
       "      <td>-4.440470</td>\n",
       "      <td>12.592279</td>\n",
       "      <td>0.009341</td>\n",
       "      <td>0.888225</td>\n",
       "      <td>281.233</td>\n",
       "      <td>271.153</td>\n",
       "      <td>...</td>\n",
       "      <td>0.000</td>\n",
       "      <td>58.765</td>\n",
       "      <td>3.0</td>\n",
       "      <td>1.0</td>\n",
       "      <td>0.0</td>\n",
       "      <td>12.0</td>\n",
       "      <td>0.0</td>\n",
       "      <td>12.0</td>\n",
       "      <td>0.0</td>\n",
       "      <td>20.0</td>\n",
       "    </tr>\n",
       "    <tr>\n",
       "      <th>4</th>\n",
       "      <td>CCCCC/C=C\\C[C@H](/C=C/C=C/C=C\\[C@H](CCCC(=O)O)O)O</td>\n",
       "      <td>1</td>\n",
       "      <td>1</td>\n",
       "      <td>10.349837</td>\n",
       "      <td>-0.842061</td>\n",
       "      <td>10.349837</td>\n",
       "      <td>0.077793</td>\n",
       "      <td>0.252797</td>\n",
       "      <td>336.472</td>\n",
       "      <td>304.216</td>\n",
       "      <td>...</td>\n",
       "      <td>0.000</td>\n",
       "      <td>93.828</td>\n",
       "      <td>4.0</td>\n",
       "      <td>0.0</td>\n",
       "      <td>0.0</td>\n",
       "      <td>0.0</td>\n",
       "      <td>0.0</td>\n",
       "      <td>0.0</td>\n",
       "      <td>0.0</td>\n",
       "      <td>24.0</td>\n",
       "    </tr>\n",
       "    <tr>\n",
       "      <th>...</th>\n",
       "      <td>...</td>\n",
       "      <td>...</td>\n",
       "      <td>...</td>\n",
       "      <td>...</td>\n",
       "      <td>...</td>\n",
       "      <td>...</td>\n",
       "      <td>...</td>\n",
       "      <td>...</td>\n",
       "      <td>...</td>\n",
       "      <td>...</td>\n",
       "      <td>...</td>\n",
       "      <td>...</td>\n",
       "      <td>...</td>\n",
       "      <td>...</td>\n",
       "      <td>...</td>\n",
       "      <td>...</td>\n",
       "      <td>...</td>\n",
       "      <td>...</td>\n",
       "      <td>...</td>\n",
       "      <td>...</td>\n",
       "      <td>...</td>\n",
       "    </tr>\n",
       "    <tr>\n",
       "      <th>313</th>\n",
       "      <td>CCCC(=O)c1ccc2c(c1)N(CCCN1CCN(CC1)C)c1c(S2)cccc1</td>\n",
       "      <td>0</td>\n",
       "      <td>0</td>\n",
       "      <td>12.493836</td>\n",
       "      <td>0.246801</td>\n",
       "      <td>12.493836</td>\n",
       "      <td>0.246801</td>\n",
       "      <td>0.605748</td>\n",
       "      <td>409.599</td>\n",
       "      <td>378.351</td>\n",
       "      <td>...</td>\n",
       "      <td>0.000</td>\n",
       "      <td>41.032</td>\n",
       "      <td>4.0</td>\n",
       "      <td>0.0</td>\n",
       "      <td>1.0</td>\n",
       "      <td>20.0</td>\n",
       "      <td>0.0</td>\n",
       "      <td>20.0</td>\n",
       "      <td>4.0</td>\n",
       "      <td>29.0</td>\n",
       "    </tr>\n",
       "    <tr>\n",
       "      <th>314</th>\n",
       "      <td>CCCCNc1ncnc2c1ncn2[C@@H]1O[C@@H]([C@H]([C@H]1O...</td>\n",
       "      <td>0</td>\n",
       "      <td>0</td>\n",
       "      <td>10.139145</td>\n",
       "      <td>-1.170356</td>\n",
       "      <td>10.139145</td>\n",
       "      <td>0.374838</td>\n",
       "      <td>0.531572</td>\n",
       "      <td>323.353</td>\n",
       "      <td>302.185</td>\n",
       "      <td>...</td>\n",
       "      <td>0.000</td>\n",
       "      <td>119.839</td>\n",
       "      <td>9.0</td>\n",
       "      <td>0.0</td>\n",
       "      <td>0.0</td>\n",
       "      <td>14.0</td>\n",
       "      <td>0.0</td>\n",
       "      <td>14.0</td>\n",
       "      <td>4.0</td>\n",
       "      <td>23.0</td>\n",
       "    </tr>\n",
       "    <tr>\n",
       "      <th>315</th>\n",
       "      <td>O1CCN(CC1)CCNc1ccnc2c1ccc1c2ccc2c1nccc2NCCN1CC...</td>\n",
       "      <td>0</td>\n",
       "      <td>0</td>\n",
       "      <td>5.459646</td>\n",
       "      <td>0.000000</td>\n",
       "      <td>5.459646</td>\n",
       "      <td>0.000000</td>\n",
       "      <td>0.259994</td>\n",
       "      <td>632.464</td>\n",
       "      <td>594.160</td>\n",
       "      <td>...</td>\n",
       "      <td>0.000</td>\n",
       "      <td>73.287</td>\n",
       "      <td>8.0</td>\n",
       "      <td>0.0</td>\n",
       "      <td>1.0</td>\n",
       "      <td>30.0</td>\n",
       "      <td>0.0</td>\n",
       "      <td>30.0</td>\n",
       "      <td>8.0</td>\n",
       "      <td>36.0</td>\n",
       "    </tr>\n",
       "    <tr>\n",
       "      <th>317</th>\n",
       "      <td>Clc1cc(Cl)cc(c1)c1nc2c(o1)cc(cc2)C(=O)O</td>\n",
       "      <td>0</td>\n",
       "      <td>0</td>\n",
       "      <td>10.913746</td>\n",
       "      <td>-1.017917</td>\n",
       "      <td>10.913746</td>\n",
       "      <td>0.142895</td>\n",
       "      <td>0.756793</td>\n",
       "      <td>308.120</td>\n",
       "      <td>301.064</td>\n",
       "      <td>...</td>\n",
       "      <td>0.000</td>\n",
       "      <td>71.417</td>\n",
       "      <td>4.0</td>\n",
       "      <td>0.0</td>\n",
       "      <td>0.0</td>\n",
       "      <td>15.0</td>\n",
       "      <td>0.0</td>\n",
       "      <td>15.0</td>\n",
       "      <td>0.0</td>\n",
       "      <td>20.0</td>\n",
       "    </tr>\n",
       "    <tr>\n",
       "      <th>318</th>\n",
       "      <td>COc1cc(ccc1O)/C=C(/n1c(C)ncc1[N+](=O)[O-])\\C(O)C</td>\n",
       "      <td>0</td>\n",
       "      <td>0</td>\n",
       "      <td>11.142479</td>\n",
       "      <td>-0.970928</td>\n",
       "      <td>11.142479</td>\n",
       "      <td>0.020334</td>\n",
       "      <td>0.645349</td>\n",
       "      <td>319.317</td>\n",
       "      <td>302.181</td>\n",
       "      <td>...</td>\n",
       "      <td>0.000</td>\n",
       "      <td>105.802</td>\n",
       "      <td>8.0</td>\n",
       "      <td>0.0</td>\n",
       "      <td>0.0</td>\n",
       "      <td>11.0</td>\n",
       "      <td>0.0</td>\n",
       "      <td>11.0</td>\n",
       "      <td>0.0</td>\n",
       "      <td>23.0</td>\n",
       "    </tr>\n",
       "  </tbody>\n",
       "</table>\n",
       "<p>283 rows × 260 columns</p>\n",
       "</div>"
      ],
      "text/plain": [
       "                                                smiles  fp1  fp0  \\\n",
       "0          CC(=O)C[C@H](c1c(=O)oc2c(c1O)cccc2)c1ccccc1    1    1   \n",
       "1            CCN(Cc1cc(ccc1O)Nc1ccnc2c1ccc(c2)Cl)CC.Cl    1    1   \n",
       "2    CCN1CCN(C(=O)C1=O)C(=O)N[C@@H](C(=O)N[C@@H]1C(...    1    1   \n",
       "3                    OC(=O)c1ccccc1Nc1cccc(c1)C(F)(F)F    1    1   \n",
       "4    CCCCC/C=C\\C[C@H](/C=C/C=C/C=C\\[C@H](CCCC(=O)O)O)O    1    1   \n",
       "..                                                 ...  ...  ...   \n",
       "313   CCCC(=O)c1ccc2c(c1)N(CCCN1CCN(CC1)C)c1c(S2)cccc1    0    0   \n",
       "314  CCCCNc1ncnc2c1ncn2[C@@H]1O[C@@H]([C@H]([C@H]1O...    0    0   \n",
       "315  O1CCN(CC1)CCNc1ccnc2c1ccc1c2ccc2c1nccc2NCCN1CC...    0    0   \n",
       "317            Clc1cc(Cl)cc(c1)c1nc2c(o1)cc(cc2)C(=O)O    0    0   \n",
       "318   COc1cc(ccc1O)/C=C(/n1c(C)ncc1[N+](=O)[O-])\\C(O)C    0    0   \n",
       "\n",
       "     MaxEStateIndex  MinEStateIndex  MaxAbsEStateIndex  MinAbsEStateIndex  \\\n",
       "0         12.412307       -0.614534          12.412307           0.064063   \n",
       "1         10.164167        0.000000          10.164167           0.000000   \n",
       "2         13.319493       -1.261722          13.319493           0.020020   \n",
       "3         12.592279       -4.440470          12.592279           0.009341   \n",
       "4         10.349837       -0.842061          10.349837           0.077793   \n",
       "..              ...             ...                ...                ...   \n",
       "313       12.493836        0.246801          12.493836           0.246801   \n",
       "314       10.139145       -1.170356          10.139145           0.374838   \n",
       "315        5.459646        0.000000           5.459646           0.000000   \n",
       "317       10.913746       -1.017917          10.913746           0.142895   \n",
       "318       11.142479       -0.970928          11.142479           0.020334   \n",
       "\n",
       "          qed    MolWt  HeavyAtomMolWt  ...  SAamideO      PSA  #NandO  \\\n",
       "0    0.747626  308.333         292.205  ...     0.000   80.224     4.0   \n",
       "1    0.536296  392.330         369.146  ...     0.000   47.193     4.0   \n",
       "2    0.344807  517.564         490.348  ...    81.593  201.233    12.0   \n",
       "3    0.888225  281.233         271.153  ...     0.000   58.765     3.0   \n",
       "4    0.252797  336.472         304.216  ...     0.000   93.828     4.0   \n",
       "..        ...      ...             ...  ...       ...      ...     ...   \n",
       "313  0.605748  409.599         378.351  ...     0.000   41.032     4.0   \n",
       "314  0.531572  323.353         302.185  ...     0.000  119.839     9.0   \n",
       "315  0.259994  632.464         594.160  ...     0.000   73.287     8.0   \n",
       "317  0.756793  308.120         301.064  ...     0.000   71.417     4.0   \n",
       "318  0.645349  319.317         302.181  ...     0.000  105.802     8.0   \n",
       "\n",
       "     RuleOfFive  RuleOfThree  #ringatoms  #in34  #in56  #noncon  #nonHatm  \n",
       "0           0.0          0.0        16.0    0.0   16.0      0.0      23.0  \n",
       "1           0.0          0.0        16.0    0.0   16.0      0.0      25.0  \n",
       "2           2.0          1.0        19.0    4.0   15.0      6.0      36.0  \n",
       "3           1.0          0.0        12.0    0.0   12.0      0.0      20.0  \n",
       "4           0.0          0.0         0.0    0.0    0.0      0.0      24.0  \n",
       "..          ...          ...         ...    ...    ...      ...       ...  \n",
       "313         0.0          1.0        20.0    0.0   20.0      4.0      29.0  \n",
       "314         0.0          0.0        14.0    0.0   14.0      4.0      23.0  \n",
       "315         0.0          1.0        30.0    0.0   30.0      8.0      36.0  \n",
       "317         0.0          0.0        15.0    0.0   15.0      0.0      20.0  \n",
       "318         0.0          0.0        11.0    0.0   11.0      0.0      23.0  \n",
       "\n",
       "[283 rows x 260 columns]"
      ]
     },
     "execution_count": 106,
     "metadata": {},
     "output_type": "execute_result"
    }
   ],
   "source": [
    "test_data"
   ]
  },
  {
   "cell_type": "code",
   "execution_count": 108,
   "metadata": {},
   "outputs": [],
   "source": [
    "test = test.reset_index(drop=True)\n",
    "test = test_data.drop(columns=['smiles'])"
   ]
  },
  {
   "cell_type": "code",
   "execution_count": 109,
   "metadata": {},
   "outputs": [
    {
     "data": {
      "text/html": [
       "<div>\n",
       "<style scoped>\n",
       "    .dataframe tbody tr th:only-of-type {\n",
       "        vertical-align: middle;\n",
       "    }\n",
       "\n",
       "    .dataframe tbody tr th {\n",
       "        vertical-align: top;\n",
       "    }\n",
       "\n",
       "    .dataframe thead th {\n",
       "        text-align: right;\n",
       "    }\n",
       "</style>\n",
       "<table border=\"1\" class=\"dataframe\">\n",
       "  <thead>\n",
       "    <tr style=\"text-align: right;\">\n",
       "      <th></th>\n",
       "      <th>fp1</th>\n",
       "      <th>fp0</th>\n",
       "      <th>MaxEStateIndex</th>\n",
       "      <th>MinEStateIndex</th>\n",
       "      <th>MaxAbsEStateIndex</th>\n",
       "      <th>MinAbsEStateIndex</th>\n",
       "      <th>qed</th>\n",
       "      <th>MolWt</th>\n",
       "      <th>HeavyAtomMolWt</th>\n",
       "      <th>ExactMolWt</th>\n",
       "      <th>...</th>\n",
       "      <th>SAamideO</th>\n",
       "      <th>PSA</th>\n",
       "      <th>#NandO</th>\n",
       "      <th>RuleOfFive</th>\n",
       "      <th>RuleOfThree</th>\n",
       "      <th>#ringatoms</th>\n",
       "      <th>#in34</th>\n",
       "      <th>#in56</th>\n",
       "      <th>#noncon</th>\n",
       "      <th>#nonHatm</th>\n",
       "    </tr>\n",
       "  </thead>\n",
       "  <tbody>\n",
       "    <tr>\n",
       "      <th>0</th>\n",
       "      <td>1</td>\n",
       "      <td>1</td>\n",
       "      <td>12.412307</td>\n",
       "      <td>-0.614534</td>\n",
       "      <td>12.412307</td>\n",
       "      <td>0.064063</td>\n",
       "      <td>0.747626</td>\n",
       "      <td>308.333</td>\n",
       "      <td>292.205</td>\n",
       "      <td>308.104859</td>\n",
       "      <td>...</td>\n",
       "      <td>0.000</td>\n",
       "      <td>80.224</td>\n",
       "      <td>4.0</td>\n",
       "      <td>0.0</td>\n",
       "      <td>0.0</td>\n",
       "      <td>16.0</td>\n",
       "      <td>0.0</td>\n",
       "      <td>16.0</td>\n",
       "      <td>0.0</td>\n",
       "      <td>23.0</td>\n",
       "    </tr>\n",
       "    <tr>\n",
       "      <th>1</th>\n",
       "      <td>1</td>\n",
       "      <td>1</td>\n",
       "      <td>10.164167</td>\n",
       "      <td>0.000000</td>\n",
       "      <td>10.164167</td>\n",
       "      <td>0.000000</td>\n",
       "      <td>0.536296</td>\n",
       "      <td>392.330</td>\n",
       "      <td>369.146</td>\n",
       "      <td>391.121818</td>\n",
       "      <td>...</td>\n",
       "      <td>0.000</td>\n",
       "      <td>47.193</td>\n",
       "      <td>4.0</td>\n",
       "      <td>0.0</td>\n",
       "      <td>0.0</td>\n",
       "      <td>16.0</td>\n",
       "      <td>0.0</td>\n",
       "      <td>16.0</td>\n",
       "      <td>0.0</td>\n",
       "      <td>25.0</td>\n",
       "    </tr>\n",
       "    <tr>\n",
       "      <th>2</th>\n",
       "      <td>1</td>\n",
       "      <td>1</td>\n",
       "      <td>13.319493</td>\n",
       "      <td>-1.261722</td>\n",
       "      <td>13.319493</td>\n",
       "      <td>0.020020</td>\n",
       "      <td>0.344807</td>\n",
       "      <td>517.564</td>\n",
       "      <td>490.348</td>\n",
       "      <td>517.163119</td>\n",
       "      <td>...</td>\n",
       "      <td>81.593</td>\n",
       "      <td>201.233</td>\n",
       "      <td>12.0</td>\n",
       "      <td>2.0</td>\n",
       "      <td>1.0</td>\n",
       "      <td>19.0</td>\n",
       "      <td>4.0</td>\n",
       "      <td>15.0</td>\n",
       "      <td>6.0</td>\n",
       "      <td>36.0</td>\n",
       "    </tr>\n",
       "    <tr>\n",
       "      <th>3</th>\n",
       "      <td>1</td>\n",
       "      <td>1</td>\n",
       "      <td>12.592279</td>\n",
       "      <td>-4.440470</td>\n",
       "      <td>12.592279</td>\n",
       "      <td>0.009341</td>\n",
       "      <td>0.888225</td>\n",
       "      <td>281.233</td>\n",
       "      <td>271.153</td>\n",
       "      <td>281.066363</td>\n",
       "      <td>...</td>\n",
       "      <td>0.000</td>\n",
       "      <td>58.765</td>\n",
       "      <td>3.0</td>\n",
       "      <td>1.0</td>\n",
       "      <td>0.0</td>\n",
       "      <td>12.0</td>\n",
       "      <td>0.0</td>\n",
       "      <td>12.0</td>\n",
       "      <td>0.0</td>\n",
       "      <td>20.0</td>\n",
       "    </tr>\n",
       "    <tr>\n",
       "      <th>4</th>\n",
       "      <td>1</td>\n",
       "      <td>1</td>\n",
       "      <td>10.349837</td>\n",
       "      <td>-0.842061</td>\n",
       "      <td>10.349837</td>\n",
       "      <td>0.077793</td>\n",
       "      <td>0.252797</td>\n",
       "      <td>336.472</td>\n",
       "      <td>304.216</td>\n",
       "      <td>336.230060</td>\n",
       "      <td>...</td>\n",
       "      <td>0.000</td>\n",
       "      <td>93.828</td>\n",
       "      <td>4.0</td>\n",
       "      <td>0.0</td>\n",
       "      <td>0.0</td>\n",
       "      <td>0.0</td>\n",
       "      <td>0.0</td>\n",
       "      <td>0.0</td>\n",
       "      <td>0.0</td>\n",
       "      <td>24.0</td>\n",
       "    </tr>\n",
       "    <tr>\n",
       "      <th>...</th>\n",
       "      <td>...</td>\n",
       "      <td>...</td>\n",
       "      <td>...</td>\n",
       "      <td>...</td>\n",
       "      <td>...</td>\n",
       "      <td>...</td>\n",
       "      <td>...</td>\n",
       "      <td>...</td>\n",
       "      <td>...</td>\n",
       "      <td>...</td>\n",
       "      <td>...</td>\n",
       "      <td>...</td>\n",
       "      <td>...</td>\n",
       "      <td>...</td>\n",
       "      <td>...</td>\n",
       "      <td>...</td>\n",
       "      <td>...</td>\n",
       "      <td>...</td>\n",
       "      <td>...</td>\n",
       "      <td>...</td>\n",
       "      <td>...</td>\n",
       "    </tr>\n",
       "    <tr>\n",
       "      <th>313</th>\n",
       "      <td>0</td>\n",
       "      <td>0</td>\n",
       "      <td>12.493836</td>\n",
       "      <td>0.246801</td>\n",
       "      <td>12.493836</td>\n",
       "      <td>0.246801</td>\n",
       "      <td>0.605748</td>\n",
       "      <td>409.599</td>\n",
       "      <td>378.351</td>\n",
       "      <td>409.218784</td>\n",
       "      <td>...</td>\n",
       "      <td>0.000</td>\n",
       "      <td>41.032</td>\n",
       "      <td>4.0</td>\n",
       "      <td>0.0</td>\n",
       "      <td>1.0</td>\n",
       "      <td>20.0</td>\n",
       "      <td>0.0</td>\n",
       "      <td>20.0</td>\n",
       "      <td>4.0</td>\n",
       "      <td>29.0</td>\n",
       "    </tr>\n",
       "    <tr>\n",
       "      <th>314</th>\n",
       "      <td>0</td>\n",
       "      <td>0</td>\n",
       "      <td>10.139145</td>\n",
       "      <td>-1.170356</td>\n",
       "      <td>10.139145</td>\n",
       "      <td>0.374838</td>\n",
       "      <td>0.531572</td>\n",
       "      <td>323.353</td>\n",
       "      <td>302.185</td>\n",
       "      <td>323.159354</td>\n",
       "      <td>...</td>\n",
       "      <td>0.000</td>\n",
       "      <td>119.839</td>\n",
       "      <td>9.0</td>\n",
       "      <td>0.0</td>\n",
       "      <td>0.0</td>\n",
       "      <td>14.0</td>\n",
       "      <td>0.0</td>\n",
       "      <td>14.0</td>\n",
       "      <td>4.0</td>\n",
       "      <td>23.0</td>\n",
       "    </tr>\n",
       "    <tr>\n",
       "      <th>315</th>\n",
       "      <td>0</td>\n",
       "      <td>0</td>\n",
       "      <td>5.459646</td>\n",
       "      <td>0.000000</td>\n",
       "      <td>5.459646</td>\n",
       "      <td>0.000000</td>\n",
       "      <td>0.259994</td>\n",
       "      <td>632.464</td>\n",
       "      <td>594.160</td>\n",
       "      <td>630.181035</td>\n",
       "      <td>...</td>\n",
       "      <td>0.000</td>\n",
       "      <td>73.287</td>\n",
       "      <td>8.0</td>\n",
       "      <td>0.0</td>\n",
       "      <td>1.0</td>\n",
       "      <td>30.0</td>\n",
       "      <td>0.0</td>\n",
       "      <td>30.0</td>\n",
       "      <td>8.0</td>\n",
       "      <td>36.0</td>\n",
       "    </tr>\n",
       "    <tr>\n",
       "      <th>317</th>\n",
       "      <td>0</td>\n",
       "      <td>0</td>\n",
       "      <td>10.913746</td>\n",
       "      <td>-1.017917</td>\n",
       "      <td>10.913746</td>\n",
       "      <td>0.142895</td>\n",
       "      <td>0.756793</td>\n",
       "      <td>308.120</td>\n",
       "      <td>301.064</td>\n",
       "      <td>306.980298</td>\n",
       "      <td>...</td>\n",
       "      <td>0.000</td>\n",
       "      <td>71.417</td>\n",
       "      <td>4.0</td>\n",
       "      <td>0.0</td>\n",
       "      <td>0.0</td>\n",
       "      <td>15.0</td>\n",
       "      <td>0.0</td>\n",
       "      <td>15.0</td>\n",
       "      <td>0.0</td>\n",
       "      <td>20.0</td>\n",
       "    </tr>\n",
       "    <tr>\n",
       "      <th>318</th>\n",
       "      <td>0</td>\n",
       "      <td>0</td>\n",
       "      <td>11.142479</td>\n",
       "      <td>-0.970928</td>\n",
       "      <td>11.142479</td>\n",
       "      <td>0.020334</td>\n",
       "      <td>0.645349</td>\n",
       "      <td>319.317</td>\n",
       "      <td>302.181</td>\n",
       "      <td>319.116821</td>\n",
       "      <td>...</td>\n",
       "      <td>0.000</td>\n",
       "      <td>105.802</td>\n",
       "      <td>8.0</td>\n",
       "      <td>0.0</td>\n",
       "      <td>0.0</td>\n",
       "      <td>11.0</td>\n",
       "      <td>0.0</td>\n",
       "      <td>11.0</td>\n",
       "      <td>0.0</td>\n",
       "      <td>23.0</td>\n",
       "    </tr>\n",
       "  </tbody>\n",
       "</table>\n",
       "<p>283 rows × 259 columns</p>\n",
       "</div>"
      ],
      "text/plain": [
       "     fp1  fp0  MaxEStateIndex  MinEStateIndex  MaxAbsEStateIndex  \\\n",
       "0      1    1       12.412307       -0.614534          12.412307   \n",
       "1      1    1       10.164167        0.000000          10.164167   \n",
       "2      1    1       13.319493       -1.261722          13.319493   \n",
       "3      1    1       12.592279       -4.440470          12.592279   \n",
       "4      1    1       10.349837       -0.842061          10.349837   \n",
       "..   ...  ...             ...             ...                ...   \n",
       "313    0    0       12.493836        0.246801          12.493836   \n",
       "314    0    0       10.139145       -1.170356          10.139145   \n",
       "315    0    0        5.459646        0.000000           5.459646   \n",
       "317    0    0       10.913746       -1.017917          10.913746   \n",
       "318    0    0       11.142479       -0.970928          11.142479   \n",
       "\n",
       "     MinAbsEStateIndex       qed    MolWt  HeavyAtomMolWt  ExactMolWt  ...  \\\n",
       "0             0.064063  0.747626  308.333         292.205  308.104859  ...   \n",
       "1             0.000000  0.536296  392.330         369.146  391.121818  ...   \n",
       "2             0.020020  0.344807  517.564         490.348  517.163119  ...   \n",
       "3             0.009341  0.888225  281.233         271.153  281.066363  ...   \n",
       "4             0.077793  0.252797  336.472         304.216  336.230060  ...   \n",
       "..                 ...       ...      ...             ...         ...  ...   \n",
       "313           0.246801  0.605748  409.599         378.351  409.218784  ...   \n",
       "314           0.374838  0.531572  323.353         302.185  323.159354  ...   \n",
       "315           0.000000  0.259994  632.464         594.160  630.181035  ...   \n",
       "317           0.142895  0.756793  308.120         301.064  306.980298  ...   \n",
       "318           0.020334  0.645349  319.317         302.181  319.116821  ...   \n",
       "\n",
       "     SAamideO      PSA  #NandO  RuleOfFive  RuleOfThree  #ringatoms  #in34  \\\n",
       "0       0.000   80.224     4.0         0.0          0.0        16.0    0.0   \n",
       "1       0.000   47.193     4.0         0.0          0.0        16.0    0.0   \n",
       "2      81.593  201.233    12.0         2.0          1.0        19.0    4.0   \n",
       "3       0.000   58.765     3.0         1.0          0.0        12.0    0.0   \n",
       "4       0.000   93.828     4.0         0.0          0.0         0.0    0.0   \n",
       "..        ...      ...     ...         ...          ...         ...    ...   \n",
       "313     0.000   41.032     4.0         0.0          1.0        20.0    0.0   \n",
       "314     0.000  119.839     9.0         0.0          0.0        14.0    0.0   \n",
       "315     0.000   73.287     8.0         0.0          1.0        30.0    0.0   \n",
       "317     0.000   71.417     4.0         0.0          0.0        15.0    0.0   \n",
       "318     0.000  105.802     8.0         0.0          0.0        11.0    0.0   \n",
       "\n",
       "     #in56  #noncon  #nonHatm  \n",
       "0     16.0      0.0      23.0  \n",
       "1     16.0      0.0      25.0  \n",
       "2     15.0      6.0      36.0  \n",
       "3     12.0      0.0      20.0  \n",
       "4      0.0      0.0      24.0  \n",
       "..     ...      ...       ...  \n",
       "313   20.0      4.0      29.0  \n",
       "314   14.0      4.0      23.0  \n",
       "315   30.0      8.0      36.0  \n",
       "317   15.0      0.0      20.0  \n",
       "318   11.0      0.0      23.0  \n",
       "\n",
       "[283 rows x 259 columns]"
      ]
     },
     "execution_count": 109,
     "metadata": {},
     "output_type": "execute_result"
    }
   ],
   "source": [
    "test"
   ]
  },
  {
   "cell_type": "code",
   "execution_count": 110,
   "metadata": {},
   "outputs": [],
   "source": [
    "test = scaler.transform(test)\n",
    "test = mos.transform(test)"
   ]
  },
  {
   "cell_type": "code",
   "execution_count": null,
   "metadata": {},
   "outputs": [],
   "source": [
    "test.shape"
   ]
  },
  {
   "cell_type": "code",
   "execution_count": null,
   "metadata": {},
   "outputs": [],
   "source": [
    "predicted = model.predict(test)"
   ]
  },
  {
   "cell_type": "code",
   "execution_count": 80,
   "metadata": {},
   "outputs": [
    {
     "data": {
      "text/plain": [
       "(283,)"
      ]
     },
     "execution_count": 80,
     "metadata": {},
     "output_type": "execute_result"
    }
   ],
   "source": [
    "predicted.shape"
   ]
  },
  {
   "cell_type": "code",
   "execution_count": 69,
   "metadata": {},
   "outputs": [
    {
     "data": {
      "text/plain": [
       "0"
      ]
     },
     "execution_count": 69,
     "metadata": {},
     "output_type": "execute_result"
    }
   ],
   "source": [
    "pd.Series(predicted).isna().sum()"
   ]
  },
  {
   "cell_type": "code",
   "execution_count": 61,
   "metadata": {},
   "outputs": [],
   "source": [
    "test_data['predicted'] = pd.Series(predicted) "
   ]
  },
  {
   "cell_type": "code",
   "execution_count": 62,
   "metadata": {},
   "outputs": [
    {
     "name": "stdout",
     "output_type": "stream",
     "text": [
      "CC/C(=C(\\c1ccccc1)/c1ccc(cc1)OCCN(C)C)/c1ccccc1\n",
      "OC[C@H]1O[C@H]([C@@H]([C@@H]1O)O)n1cnc2c1ncnc2NC1CCCCC1\n",
      "OC(=O)[C@@H](c1ccc(c(c1)F)c1ccccc1)C\n",
      "CCCCNC(=O)NS(=O)(=O)c1ccc(cc1)C\n",
      "COCCOCCCSc1ccc(cn1)C(=O)Nc1ccc(cc1C(=O)O)C#N\n",
      "OCC(=O)[C@@]1(O)[C@H](C)C[C@@H]2[C@]1(C)C[C@H](O)[C@]1([C@H]2CCC2=CC(=O)C=C[C@]12C)F\n",
      "CC(=O)C[C@@H](c1c(=O)oc2c(c1O)cccc2)c1ccccc1\n",
      "OCCOCn1cnc2c1nc(N)[nH]c2=O\n",
      "CN(CC[C@@H](c1ccccn1)c1ccc(cc1)Cl)C\n",
      "OC[C@H]1O[C@H]([C@@H]([C@@H]1O)O)n1cnc2c1ncnc2NC1CC2CC1CC2\n"
     ]
    }
   ],
   "source": [
    "for i in list(test_data[test_data.predicted == 0].smiles):\n",
    "    print(i)"
   ]
  },
  {
   "cell_type": "code",
   "execution_count": 64,
   "metadata": {},
   "outputs": [],
   "source": [
    "test_data_csv = test_data[['smiles', 'predicted']]"
   ]
  },
  {
   "cell_type": "code",
   "execution_count": 70,
   "metadata": {},
   "outputs": [
    {
     "data": {
      "text/plain": [
       "31"
      ]
     },
     "execution_count": 70,
     "metadata": {},
     "output_type": "execute_result"
    }
   ],
   "source": [
    "test_data_csv.predicted.isna().sum()"
   ]
  },
  {
   "cell_type": "code",
   "execution_count": 65,
   "metadata": {},
   "outputs": [],
   "source": [
    "test_data_csv.to_csv('../data/predicted_test/custom_db_predicted.csv', index=False)"
   ]
  },
  {
   "cell_type": "code",
   "execution_count": null,
   "metadata": {},
   "outputs": [],
   "source": []
  }
 ],
 "metadata": {
  "kernelspec": {
   "display_name": "rdkitEnv",
   "language": "python",
   "name": "rdkitenv"
  },
  "language_info": {
   "codemirror_mode": {
    "name": "ipython",
    "version": 3
   },
   "file_extension": ".py",
   "mimetype": "text/x-python",
   "name": "python",
   "nbconvert_exporter": "python",
   "pygments_lexer": "ipython3",
   "version": "3.9.5"
  }
 },
 "nbformat": 4,
 "nbformat_minor": 4
}
