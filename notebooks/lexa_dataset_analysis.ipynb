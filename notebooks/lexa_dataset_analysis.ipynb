{
 "cells": [
  {
   "cell_type": "code",
   "execution_count": 1,
   "metadata": {},
   "outputs": [],
   "source": [
    "import pandas as pd\n",
    "import pubchempy as pcp\n",
    "\n",
    "from tqdm.notebook import tqdm"
   ]
  },
  {
   "cell_type": "code",
   "execution_count": 2,
   "metadata": {},
   "outputs": [],
   "source": [
    "binding_data = pd.read_csv('../data/binding_data.csv')"
   ]
  },
  {
   "cell_type": "code",
   "execution_count": 3,
   "metadata": {},
   "outputs": [
    {
     "data": {
      "text/html": [
       "<div>\n",
       "<style scoped>\n",
       "    .dataframe tbody tr th:only-of-type {\n",
       "        vertical-align: middle;\n",
       "    }\n",
       "\n",
       "    .dataframe tbody tr th {\n",
       "        vertical-align: top;\n",
       "    }\n",
       "\n",
       "    .dataframe thead th {\n",
       "        text-align: right;\n",
       "    }\n",
       "</style>\n",
       "<table border=\"1\" class=\"dataframe\">\n",
       "  <thead>\n",
       "    <tr style=\"text-align: right;\">\n",
       "      <th></th>\n",
       "      <th>ligand</th>\n",
       "      <th>Binder/\\nNonbinder</th>\n",
       "      <th>Average HSA score</th>\n",
       "      <th>SD HSA score</th>\n",
       "    </tr>\n",
       "  </thead>\n",
       "  <tbody>\n",
       "    <tr>\n",
       "      <th>0</th>\n",
       "      <td>2-(R)-phenylproionamides 1</td>\n",
       "      <td>0</td>\n",
       "      <td>99.80</td>\n",
       "      <td>0.00</td>\n",
       "    </tr>\n",
       "    <tr>\n",
       "      <th>1</th>\n",
       "      <td>2-(R)-phenylproionamides 10</td>\n",
       "      <td>0</td>\n",
       "      <td>70.10</td>\n",
       "      <td>0.14</td>\n",
       "    </tr>\n",
       "    <tr>\n",
       "      <th>2</th>\n",
       "      <td>2-(R)-phenylproionamides 2 (Reparixin)</td>\n",
       "      <td>0</td>\n",
       "      <td>99.90</td>\n",
       "      <td>0.00</td>\n",
       "    </tr>\n",
       "    <tr>\n",
       "      <th>3</th>\n",
       "      <td>2-(R)-phenylproionamides 3</td>\n",
       "      <td>0</td>\n",
       "      <td>91.98</td>\n",
       "      <td>0.03</td>\n",
       "    </tr>\n",
       "    <tr>\n",
       "      <th>4</th>\n",
       "      <td>2-(R)-phenylproionamides 4</td>\n",
       "      <td>0</td>\n",
       "      <td>70.00</td>\n",
       "      <td>0.01</td>\n",
       "    </tr>\n",
       "    <tr>\n",
       "      <th>...</th>\n",
       "      <td>...</td>\n",
       "      <td>...</td>\n",
       "      <td>...</td>\n",
       "      <td>...</td>\n",
       "    </tr>\n",
       "    <tr>\n",
       "      <th>427</th>\n",
       "      <td>L-tryptophan</td>\n",
       "      <td>2</td>\n",
       "      <td>73.37</td>\n",
       "      <td>39.66</td>\n",
       "    </tr>\n",
       "    <tr>\n",
       "      <th>428</th>\n",
       "      <td>neostigmine</td>\n",
       "      <td>2</td>\n",
       "      <td>62.30</td>\n",
       "      <td>28.17</td>\n",
       "    </tr>\n",
       "    <tr>\n",
       "      <th>429</th>\n",
       "      <td>salicylic acid</td>\n",
       "      <td>2</td>\n",
       "      <td>66.75</td>\n",
       "      <td>34.29</td>\n",
       "    </tr>\n",
       "    <tr>\n",
       "      <th>430</th>\n",
       "      <td>sulfaphenazole</td>\n",
       "      <td>2</td>\n",
       "      <td>68.66</td>\n",
       "      <td>43.15</td>\n",
       "    </tr>\n",
       "    <tr>\n",
       "      <th>431</th>\n",
       "      <td>Tolazamide</td>\n",
       "      <td>2</td>\n",
       "      <td>79.91</td>\n",
       "      <td>34.92</td>\n",
       "    </tr>\n",
       "  </tbody>\n",
       "</table>\n",
       "<p>432 rows × 4 columns</p>\n",
       "</div>"
      ],
      "text/plain": [
       "                                     ligand  Binder/\\nNonbinder  \\\n",
       "0                2-(R)-phenylproionamides 1                   0   \n",
       "1               2-(R)-phenylproionamides 10                   0   \n",
       "2    2-(R)-phenylproionamides 2 (Reparixin)                   0   \n",
       "3                2-(R)-phenylproionamides 3                   0   \n",
       "4                2-(R)-phenylproionamides 4                   0   \n",
       "..                                      ...                 ...   \n",
       "427                            L-tryptophan                   2   \n",
       "428                             neostigmine                   2   \n",
       "429                         salicylic acid                    2   \n",
       "430                          sulfaphenazole                   2   \n",
       "431                             Tolazamide                    2   \n",
       "\n",
       "     Average HSA score  SD HSA score  \n",
       "0                99.80          0.00  \n",
       "1                70.10          0.14  \n",
       "2                99.90          0.00  \n",
       "3                91.98          0.03  \n",
       "4                70.00          0.01  \n",
       "..                 ...           ...  \n",
       "427              73.37         39.66  \n",
       "428              62.30         28.17  \n",
       "429              66.75         34.29  \n",
       "430              68.66         43.15  \n",
       "431              79.91         34.92  \n",
       "\n",
       "[432 rows x 4 columns]"
      ]
     },
     "execution_count": 3,
     "metadata": {},
     "output_type": "execute_result"
    }
   ],
   "source": [
    "binding_data"
   ]
  },
  {
   "cell_type": "code",
   "execution_count": 4,
   "metadata": {},
   "outputs": [],
   "source": [
    "binding_data_names = binding_data[['Binder/\\nNonbinder', 'ligand']]"
   ]
  },
  {
   "cell_type": "code",
   "execution_count": 5,
   "metadata": {},
   "outputs": [],
   "source": [
    "binding_data_names = binding_data_names.rename(columns={'Binder/\\nNonbinder': 'binder'}) "
   ]
  },
  {
   "cell_type": "code",
   "execution_count": 6,
   "metadata": {},
   "outputs": [
    {
     "data": {
      "text/html": [
       "<div>\n",
       "<style scoped>\n",
       "    .dataframe tbody tr th:only-of-type {\n",
       "        vertical-align: middle;\n",
       "    }\n",
       "\n",
       "    .dataframe tbody tr th {\n",
       "        vertical-align: top;\n",
       "    }\n",
       "\n",
       "    .dataframe thead th {\n",
       "        text-align: right;\n",
       "    }\n",
       "</style>\n",
       "<table border=\"1\" class=\"dataframe\">\n",
       "  <thead>\n",
       "    <tr style=\"text-align: right;\">\n",
       "      <th></th>\n",
       "      <th>binder</th>\n",
       "      <th>ligand</th>\n",
       "    </tr>\n",
       "  </thead>\n",
       "  <tbody>\n",
       "    <tr>\n",
       "      <th>0</th>\n",
       "      <td>0</td>\n",
       "      <td>2-(R)-phenylproionamides 1</td>\n",
       "    </tr>\n",
       "    <tr>\n",
       "      <th>1</th>\n",
       "      <td>0</td>\n",
       "      <td>2-(R)-phenylproionamides 10</td>\n",
       "    </tr>\n",
       "    <tr>\n",
       "      <th>2</th>\n",
       "      <td>0</td>\n",
       "      <td>2-(R)-phenylproionamides 2 (Reparixin)</td>\n",
       "    </tr>\n",
       "    <tr>\n",
       "      <th>3</th>\n",
       "      <td>0</td>\n",
       "      <td>2-(R)-phenylproionamides 3</td>\n",
       "    </tr>\n",
       "    <tr>\n",
       "      <th>4</th>\n",
       "      <td>0</td>\n",
       "      <td>2-(R)-phenylproionamides 4</td>\n",
       "    </tr>\n",
       "  </tbody>\n",
       "</table>\n",
       "</div>"
      ],
      "text/plain": [
       "   binder                                  ligand\n",
       "0       0              2-(R)-phenylproionamides 1\n",
       "1       0             2-(R)-phenylproionamides 10\n",
       "2       0  2-(R)-phenylproionamides 2 (Reparixin)\n",
       "3       0              2-(R)-phenylproionamides 3\n",
       "4       0              2-(R)-phenylproionamides 4"
      ]
     },
     "execution_count": 6,
     "metadata": {},
     "output_type": "execute_result"
    }
   ],
   "source": [
    "binding_data_names.head()"
   ]
  },
  {
   "cell_type": "code",
   "execution_count": 91,
   "metadata": {},
   "outputs": [
    {
     "data": {
      "application/vnd.jupyter.widget-view+json": {
       "model_id": "a64d8301be544eb68bfa6aea3718d258",
       "version_major": 2,
       "version_minor": 0
      },
      "text/plain": [
       "  0%|          | 0/432 [00:00<?, ?it/s]"
      ]
     },
     "metadata": {},
     "output_type": "display_data"
    }
   ],
   "source": [
    "smiles = []\n",
    "ligands = tqdm(list(binding_data_names.ligand))\n",
    "broken_names = []\n",
    "for name in ligands:\n",
    "    try:\n",
    "        cs = pcp.get_compounds(name, 'name')\n",
    "        smiles.append(cs[0].isomeric_smiles)\n",
    "    except Exception as e:\n",
    "        broken_names.append(name)\n",
    "        smiles.append(None)"
   ]
  },
  {
   "cell_type": "code",
   "execution_count": 92,
   "metadata": {},
   "outputs": [],
   "source": [
    "broken_names = pd.DataFrame({'name': broken_names})\n",
    "broken_names.to_csv('../data/lexa_broken_names')"
   ]
  },
  {
   "cell_type": "code",
   "execution_count": 93,
   "metadata": {},
   "outputs": [
    {
     "data": {
      "text/html": [
       "<div>\n",
       "<style scoped>\n",
       "    .dataframe tbody tr th:only-of-type {\n",
       "        vertical-align: middle;\n",
       "    }\n",
       "\n",
       "    .dataframe tbody tr th {\n",
       "        vertical-align: top;\n",
       "    }\n",
       "\n",
       "    .dataframe thead th {\n",
       "        text-align: right;\n",
       "    }\n",
       "</style>\n",
       "<table border=\"1\" class=\"dataframe\">\n",
       "  <thead>\n",
       "    <tr style=\"text-align: right;\">\n",
       "      <th></th>\n",
       "      <th>name</th>\n",
       "    </tr>\n",
       "  </thead>\n",
       "  <tbody>\n",
       "    <tr>\n",
       "      <th>0</th>\n",
       "      <td>2-(R)-phenylproionamides 1</td>\n",
       "    </tr>\n",
       "    <tr>\n",
       "      <th>1</th>\n",
       "      <td>2-(R)-phenylproionamides 10</td>\n",
       "    </tr>\n",
       "    <tr>\n",
       "      <th>2</th>\n",
       "      <td>2-(R)-phenylproionamides 2 (Reparixin)</td>\n",
       "    </tr>\n",
       "    <tr>\n",
       "      <th>3</th>\n",
       "      <td>2-(R)-phenylproionamides 3</td>\n",
       "    </tr>\n",
       "    <tr>\n",
       "      <th>4</th>\n",
       "      <td>2-(R)-phenylproionamides 4</td>\n",
       "    </tr>\n",
       "    <tr>\n",
       "      <th>...</th>\n",
       "      <td>...</td>\n",
       "    </tr>\n",
       "    <tr>\n",
       "      <th>113</th>\n",
       "      <td>R-,S-Warfarin</td>\n",
       "    </tr>\n",
       "    <tr>\n",
       "      <th>114</th>\n",
       "      <td>Suprofen ester</td>\n",
       "    </tr>\n",
       "    <tr>\n",
       "      <th>115</th>\n",
       "      <td>4-hydroxylmethyl-quinolone</td>\n",
       "    </tr>\n",
       "    <tr>\n",
       "      <th>116</th>\n",
       "      <td>Moxisylate</td>\n",
       "    </tr>\n",
       "    <tr>\n",
       "      <th>117</th>\n",
       "      <td>azithromicin</td>\n",
       "    </tr>\n",
       "  </tbody>\n",
       "</table>\n",
       "<p>118 rows × 1 columns</p>\n",
       "</div>"
      ],
      "text/plain": [
       "                                       name\n",
       "0                2-(R)-phenylproionamides 1\n",
       "1               2-(R)-phenylproionamides 10\n",
       "2    2-(R)-phenylproionamides 2 (Reparixin)\n",
       "3                2-(R)-phenylproionamides 3\n",
       "4                2-(R)-phenylproionamides 4\n",
       "..                                      ...\n",
       "113                           R-,S-Warfarin\n",
       "114                          Suprofen ester\n",
       "115              4-hydroxylmethyl-quinolone\n",
       "116                              Moxisylate\n",
       "117                            azithromicin\n",
       "\n",
       "[118 rows x 1 columns]"
      ]
     },
     "execution_count": 93,
     "metadata": {},
     "output_type": "execute_result"
    }
   ],
   "source": [
    "broken_names"
   ]
  },
  {
   "cell_type": "code",
   "execution_count": 15,
   "metadata": {},
   "outputs": [],
   "source": [
    "binding_data_names['smiles'] = pd.Series(smiles)"
   ]
  },
  {
   "cell_type": "code",
   "execution_count": 18,
   "metadata": {},
   "outputs": [
    {
     "data": {
      "text/plain": [
       "binder      0\n",
       "ligand      0\n",
       "smiles    118\n",
       "dtype: int64"
      ]
     },
     "execution_count": 18,
     "metadata": {},
     "output_type": "execute_result"
    }
   ],
   "source": [
    "binding_data_names.isna().sum()"
   ]
  },
  {
   "cell_type": "markdown",
   "metadata": {},
   "source": [
    "## NaNs among nonbinders"
   ]
  },
  {
   "cell_type": "code",
   "execution_count": 78,
   "metadata": {},
   "outputs": [
    {
     "data": {
      "text/html": [
       "<div>\n",
       "<style scoped>\n",
       "    .dataframe tbody tr th:only-of-type {\n",
       "        vertical-align: middle;\n",
       "    }\n",
       "\n",
       "    .dataframe tbody tr th {\n",
       "        vertical-align: top;\n",
       "    }\n",
       "\n",
       "    .dataframe thead th {\n",
       "        text-align: right;\n",
       "    }\n",
       "</style>\n",
       "<table border=\"1\" class=\"dataframe\">\n",
       "  <thead>\n",
       "    <tr style=\"text-align: right;\">\n",
       "      <th></th>\n",
       "      <th>binder</th>\n",
       "    </tr>\n",
       "  </thead>\n",
       "  <tbody>\n",
       "    <tr>\n",
       "      <th>count</th>\n",
       "      <td>432.000000</td>\n",
       "    </tr>\n",
       "    <tr>\n",
       "      <th>mean</th>\n",
       "      <td>0.229167</td>\n",
       "    </tr>\n",
       "    <tr>\n",
       "      <th>std</th>\n",
       "      <td>0.477602</td>\n",
       "    </tr>\n",
       "    <tr>\n",
       "      <th>min</th>\n",
       "      <td>0.000000</td>\n",
       "    </tr>\n",
       "    <tr>\n",
       "      <th>25%</th>\n",
       "      <td>0.000000</td>\n",
       "    </tr>\n",
       "    <tr>\n",
       "      <th>50%</th>\n",
       "      <td>0.000000</td>\n",
       "    </tr>\n",
       "    <tr>\n",
       "      <th>75%</th>\n",
       "      <td>0.000000</td>\n",
       "    </tr>\n",
       "    <tr>\n",
       "      <th>max</th>\n",
       "      <td>2.000000</td>\n",
       "    </tr>\n",
       "  </tbody>\n",
       "</table>\n",
       "</div>"
      ],
      "text/plain": [
       "           binder\n",
       "count  432.000000\n",
       "mean     0.229167\n",
       "std      0.477602\n",
       "min      0.000000\n",
       "25%      0.000000\n",
       "50%      0.000000\n",
       "75%      0.000000\n",
       "max      2.000000"
      ]
     },
     "execution_count": 78,
     "metadata": {},
     "output_type": "execute_result"
    }
   ],
   "source": [
    "binding_data_names.describe()"
   ]
  },
  {
   "cell_type": "code",
   "execution_count": 83,
   "metadata": {},
   "outputs": [
    {
     "data": {
      "text/plain": [
       "0    344\n",
       "1     77\n",
       "2     11\n",
       "Name: binder, dtype: int64"
      ]
     },
     "execution_count": 83,
     "metadata": {},
     "output_type": "execute_result"
    }
   ],
   "source": [
    "binding_data_names.binder.value_counts()"
   ]
  },
  {
   "cell_type": "markdown",
   "metadata": {},
   "source": [
    "## Data without NA smiles"
   ]
  },
  {
   "cell_type": "code",
   "execution_count": 86,
   "metadata": {},
   "outputs": [],
   "source": [
    "binding_data_wo_na = binding_data_names.dropna()"
   ]
  },
  {
   "cell_type": "code",
   "execution_count": 87,
   "metadata": {},
   "outputs": [],
   "source": [
    "binding_data_wo_na = binding_data_wo_na[binding_data_wo_na.binder != 2]"
   ]
  },
  {
   "cell_type": "code",
   "execution_count": 88,
   "metadata": {},
   "outputs": [
    {
     "data": {
      "text/plain": [
       "0    229\n",
       "1     75\n",
       "Name: binder, dtype: int64"
      ]
     },
     "execution_count": 88,
     "metadata": {},
     "output_type": "execute_result"
    }
   ],
   "source": [
    "binding_data_wo_na.binder.value_counts()"
   ]
  },
  {
   "cell_type": "code",
   "execution_count": 89,
   "metadata": {},
   "outputs": [
    {
     "data": {
      "text/html": [
       "<div>\n",
       "<style scoped>\n",
       "    .dataframe tbody tr th:only-of-type {\n",
       "        vertical-align: middle;\n",
       "    }\n",
       "\n",
       "    .dataframe tbody tr th {\n",
       "        vertical-align: top;\n",
       "    }\n",
       "\n",
       "    .dataframe thead th {\n",
       "        text-align: right;\n",
       "    }\n",
       "</style>\n",
       "<table border=\"1\" class=\"dataframe\">\n",
       "  <thead>\n",
       "    <tr style=\"text-align: right;\">\n",
       "      <th></th>\n",
       "      <th>binder</th>\n",
       "    </tr>\n",
       "  </thead>\n",
       "  <tbody>\n",
       "    <tr>\n",
       "      <th>count</th>\n",
       "      <td>304.000000</td>\n",
       "    </tr>\n",
       "    <tr>\n",
       "      <th>mean</th>\n",
       "      <td>0.246711</td>\n",
       "    </tr>\n",
       "    <tr>\n",
       "      <th>std</th>\n",
       "      <td>0.431808</td>\n",
       "    </tr>\n",
       "    <tr>\n",
       "      <th>min</th>\n",
       "      <td>0.000000</td>\n",
       "    </tr>\n",
       "    <tr>\n",
       "      <th>25%</th>\n",
       "      <td>0.000000</td>\n",
       "    </tr>\n",
       "    <tr>\n",
       "      <th>50%</th>\n",
       "      <td>0.000000</td>\n",
       "    </tr>\n",
       "    <tr>\n",
       "      <th>75%</th>\n",
       "      <td>0.000000</td>\n",
       "    </tr>\n",
       "    <tr>\n",
       "      <th>max</th>\n",
       "      <td>1.000000</td>\n",
       "    </tr>\n",
       "  </tbody>\n",
       "</table>\n",
       "</div>"
      ],
      "text/plain": [
       "           binder\n",
       "count  304.000000\n",
       "mean     0.246711\n",
       "std      0.431808\n",
       "min      0.000000\n",
       "25%      0.000000\n",
       "50%      0.000000\n",
       "75%      0.000000\n",
       "max      1.000000"
      ]
     },
     "execution_count": 89,
     "metadata": {},
     "output_type": "execute_result"
    }
   ],
   "source": [
    "binding_data_wo_na.describe()"
   ]
  },
  {
   "cell_type": "code",
   "execution_count": 90,
   "metadata": {},
   "outputs": [
    {
     "data": {
      "text/html": [
       "<div>\n",
       "<style scoped>\n",
       "    .dataframe tbody tr th:only-of-type {\n",
       "        vertical-align: middle;\n",
       "    }\n",
       "\n",
       "    .dataframe tbody tr th {\n",
       "        vertical-align: top;\n",
       "    }\n",
       "\n",
       "    .dataframe thead th {\n",
       "        text-align: right;\n",
       "    }\n",
       "</style>\n",
       "<table border=\"1\" class=\"dataframe\">\n",
       "  <thead>\n",
       "    <tr style=\"text-align: right;\">\n",
       "      <th></th>\n",
       "      <th>binder</th>\n",
       "      <th>ligand</th>\n",
       "      <th>smiles</th>\n",
       "    </tr>\n",
       "  </thead>\n",
       "  <tbody>\n",
       "    <tr>\n",
       "      <th>11</th>\n",
       "      <td>0</td>\n",
       "      <td>3-acetylcoumarin</td>\n",
       "      <td>CC(=O)C1=CC2=CC=CC=C2OC1=O</td>\n",
       "    </tr>\n",
       "    <tr>\n",
       "      <th>13</th>\n",
       "      <td>0</td>\n",
       "      <td>4-chromanol</td>\n",
       "      <td>C1COC2=CC=CC=C2C1O</td>\n",
       "    </tr>\n",
       "    <tr>\n",
       "      <th>14</th>\n",
       "      <td>0</td>\n",
       "      <td>4-hydroxycoumarin</td>\n",
       "      <td>C1=CC=C2C(=C1)C(=CC(=O)O2)O</td>\n",
       "    </tr>\n",
       "    <tr>\n",
       "      <th>23</th>\n",
       "      <td>0</td>\n",
       "      <td>8-hydroxydaidzein</td>\n",
       "      <td>C1=CC(=CC=C1C2=COC3=C(C2=O)C=CC(=C3O)O)O</td>\n",
       "    </tr>\n",
       "    <tr>\n",
       "      <th>24</th>\n",
       "      <td>0</td>\n",
       "      <td>Abacavir</td>\n",
       "      <td>C1CC1NC2=C3C(=NC(=N2)N)N(C=N3)[C@@H]4C[C@@H](C...</td>\n",
       "    </tr>\n",
       "    <tr>\n",
       "      <th>...</th>\n",
       "      <td>...</td>\n",
       "      <td>...</td>\n",
       "      <td>...</td>\n",
       "    </tr>\n",
       "    <tr>\n",
       "      <th>416</th>\n",
       "      <td>1</td>\n",
       "      <td>Tranexamic acid</td>\n",
       "      <td>C1CC(CCC1CN)C(=O)O</td>\n",
       "    </tr>\n",
       "    <tr>\n",
       "      <th>417</th>\n",
       "      <td>1</td>\n",
       "      <td>Venlafaxine</td>\n",
       "      <td>CN(C)CC(C1=CC=C(C=C1)OC)C2(CCCCC2)O</td>\n",
       "    </tr>\n",
       "    <tr>\n",
       "      <th>418</th>\n",
       "      <td>1</td>\n",
       "      <td>Zalcitabine</td>\n",
       "      <td>C1C[C@@H](O[C@@H]1CO)N2C=CC(=NC2=O)N</td>\n",
       "    </tr>\n",
       "    <tr>\n",
       "      <th>419</th>\n",
       "      <td>1</td>\n",
       "      <td>Zanamivir</td>\n",
       "      <td>CC(=O)N[C@@H]1[C@H](C=C(O[C@H]1[C@@H]([C@@H](C...</td>\n",
       "    </tr>\n",
       "    <tr>\n",
       "      <th>420</th>\n",
       "      <td>1</td>\n",
       "      <td>Zidovudine</td>\n",
       "      <td>CC1=CN(C(=O)NC1=O)[C@H]2C[C@@H]([C@H](O2)CO)N=...</td>\n",
       "    </tr>\n",
       "  </tbody>\n",
       "</table>\n",
       "<p>304 rows × 3 columns</p>\n",
       "</div>"
      ],
      "text/plain": [
       "     binder             ligand  \\\n",
       "11        0   3-acetylcoumarin   \n",
       "13        0        4-chromanol   \n",
       "14        0  4-hydroxycoumarin   \n",
       "23        0  8-hydroxydaidzein   \n",
       "24        0           Abacavir   \n",
       "..      ...                ...   \n",
       "416       1   Tranexamic acid    \n",
       "417       1        Venlafaxine   \n",
       "418       1        Zalcitabine   \n",
       "419       1          Zanamivir   \n",
       "420       1        Zidovudine    \n",
       "\n",
       "                                                smiles  \n",
       "11                          CC(=O)C1=CC2=CC=CC=C2OC1=O  \n",
       "13                                  C1COC2=CC=CC=C2C1O  \n",
       "14                         C1=CC=C2C(=C1)C(=CC(=O)O2)O  \n",
       "23            C1=CC(=CC=C1C2=COC3=C(C2=O)C=CC(=C3O)O)O  \n",
       "24   C1CC1NC2=C3C(=NC(=N2)N)N(C=N3)[C@@H]4C[C@@H](C...  \n",
       "..                                                 ...  \n",
       "416                                 C1CC(CCC1CN)C(=O)O  \n",
       "417                CN(C)CC(C1=CC=C(C=C1)OC)C2(CCCCC2)O  \n",
       "418               C1C[C@@H](O[C@@H]1CO)N2C=CC(=NC2=O)N  \n",
       "419  CC(=O)N[C@@H]1[C@H](C=C(O[C@H]1[C@@H]([C@@H](C...  \n",
       "420  CC1=CN(C(=O)NC1=O)[C@H]2C[C@@H]([C@H](O2)CO)N=...  \n",
       "\n",
       "[304 rows x 3 columns]"
      ]
     },
     "execution_count": 90,
     "metadata": {},
     "output_type": "execute_result"
    }
   ],
   "source": [
    "binding_data_wo_na"
   ]
  },
  {
   "cell_type": "code",
   "execution_count": 54,
   "metadata": {},
   "outputs": [],
   "source": [
    "binding = [bool(x) for x in binding_data_wo_na.binder]"
   ]
  },
  {
   "cell_type": "code",
   "execution_count": 57,
   "metadata": {},
   "outputs": [],
   "source": [
    "binding = [not x for x in binding]"
   ]
  },
  {
   "cell_type": "code",
   "execution_count": 59,
   "metadata": {},
   "outputs": [],
   "source": [
    "binding = [int(x) for x in binding]"
   ]
  },
  {
   "cell_type": "code",
   "execution_count": 67,
   "metadata": {},
   "outputs": [
    {
     "data": {
      "text/plain": [
       "0      1\n",
       "1      1\n",
       "2      1\n",
       "3      1\n",
       "4      1\n",
       "      ..\n",
       "299    0\n",
       "300    0\n",
       "301    0\n",
       "302    0\n",
       "303    0\n",
       "Length: 304, dtype: int64"
      ]
     },
     "execution_count": 67,
     "metadata": {},
     "output_type": "execute_result"
    }
   ],
   "source": [
    "binding = pd.Series(binding)"
   ]
  },
  {
   "cell_type": "code",
   "execution_count": 68,
   "metadata": {},
   "outputs": [],
   "source": [
    "binding_data_wo_na['active'] = binding"
   ]
  },
  {
   "cell_type": "code",
   "execution_count": 69,
   "metadata": {},
   "outputs": [
    {
     "data": {
      "text/html": [
       "<div>\n",
       "<style scoped>\n",
       "    .dataframe tbody tr th:only-of-type {\n",
       "        vertical-align: middle;\n",
       "    }\n",
       "\n",
       "    .dataframe tbody tr th {\n",
       "        vertical-align: top;\n",
       "    }\n",
       "\n",
       "    .dataframe thead th {\n",
       "        text-align: right;\n",
       "    }\n",
       "</style>\n",
       "<table border=\"1\" class=\"dataframe\">\n",
       "  <thead>\n",
       "    <tr style=\"text-align: right;\">\n",
       "      <th></th>\n",
       "      <th>binder</th>\n",
       "      <th>ligand</th>\n",
       "      <th>smiles</th>\n",
       "      <th>active</th>\n",
       "    </tr>\n",
       "  </thead>\n",
       "  <tbody>\n",
       "    <tr>\n",
       "      <th>11</th>\n",
       "      <td>1.0</td>\n",
       "      <td>3-acetylcoumarin</td>\n",
       "      <td>CC(=O)C1=CC2=CC=CC=C2OC1=O</td>\n",
       "      <td>1</td>\n",
       "    </tr>\n",
       "    <tr>\n",
       "      <th>13</th>\n",
       "      <td>1.0</td>\n",
       "      <td>4-chromanol</td>\n",
       "      <td>C1COC2=CC=CC=C2C1O</td>\n",
       "      <td>1</td>\n",
       "    </tr>\n",
       "    <tr>\n",
       "      <th>14</th>\n",
       "      <td>1.0</td>\n",
       "      <td>4-hydroxycoumarin</td>\n",
       "      <td>C1=CC=C2C(=C1)C(=CC(=O)O2)O</td>\n",
       "      <td>1</td>\n",
       "    </tr>\n",
       "    <tr>\n",
       "      <th>23</th>\n",
       "      <td>1.0</td>\n",
       "      <td>8-hydroxydaidzein</td>\n",
       "      <td>C1=CC(=CC=C1C2=COC3=C(C2=O)C=CC(=C3O)O)O</td>\n",
       "      <td>1</td>\n",
       "    </tr>\n",
       "    <tr>\n",
       "      <th>24</th>\n",
       "      <td>1.0</td>\n",
       "      <td>Abacavir</td>\n",
       "      <td>C1CC1NC2=C3C(=NC(=N2)N)N(C=N3)[C@@H]4C[C@@H](C...</td>\n",
       "      <td>1</td>\n",
       "    </tr>\n",
       "    <tr>\n",
       "      <th>...</th>\n",
       "      <td>...</td>\n",
       "      <td>...</td>\n",
       "      <td>...</td>\n",
       "      <td>...</td>\n",
       "    </tr>\n",
       "    <tr>\n",
       "      <th>416</th>\n",
       "      <td>NaN</td>\n",
       "      <td>Tranexamic acid</td>\n",
       "      <td>C1CC(CCC1CN)C(=O)O</td>\n",
       "      <td>0</td>\n",
       "    </tr>\n",
       "    <tr>\n",
       "      <th>417</th>\n",
       "      <td>NaN</td>\n",
       "      <td>Venlafaxine</td>\n",
       "      <td>CN(C)CC(C1=CC=C(C=C1)OC)C2(CCCCC2)O</td>\n",
       "      <td>0</td>\n",
       "    </tr>\n",
       "    <tr>\n",
       "      <th>418</th>\n",
       "      <td>NaN</td>\n",
       "      <td>Zalcitabine</td>\n",
       "      <td>C1C[C@@H](O[C@@H]1CO)N2C=CC(=NC2=O)N</td>\n",
       "      <td>0</td>\n",
       "    </tr>\n",
       "    <tr>\n",
       "      <th>419</th>\n",
       "      <td>NaN</td>\n",
       "      <td>Zanamivir</td>\n",
       "      <td>CC(=O)N[C@@H]1[C@H](C=C(O[C@H]1[C@@H]([C@@H](C...</td>\n",
       "      <td>0</td>\n",
       "    </tr>\n",
       "    <tr>\n",
       "      <th>420</th>\n",
       "      <td>NaN</td>\n",
       "      <td>Zidovudine</td>\n",
       "      <td>CC1=CN(C(=O)NC1=O)[C@H]2C[C@@H]([C@H](O2)CO)N=...</td>\n",
       "      <td>0</td>\n",
       "    </tr>\n",
       "  </tbody>\n",
       "</table>\n",
       "<p>304 rows × 4 columns</p>\n",
       "</div>"
      ],
      "text/plain": [
       "     binder             ligand  \\\n",
       "11      1.0   3-acetylcoumarin   \n",
       "13      1.0        4-chromanol   \n",
       "14      1.0  4-hydroxycoumarin   \n",
       "23      1.0  8-hydroxydaidzein   \n",
       "24      1.0           Abacavir   \n",
       "..      ...                ...   \n",
       "416     NaN   Tranexamic acid    \n",
       "417     NaN        Venlafaxine   \n",
       "418     NaN        Zalcitabine   \n",
       "419     NaN          Zanamivir   \n",
       "420     NaN        Zidovudine    \n",
       "\n",
       "                                                smiles  active  \n",
       "11                          CC(=O)C1=CC2=CC=CC=C2OC1=O       1  \n",
       "13                                  C1COC2=CC=CC=C2C1O       1  \n",
       "14                         C1=CC=C2C(=C1)C(=CC(=O)O2)O       1  \n",
       "23            C1=CC(=CC=C1C2=COC3=C(C2=O)C=CC(=C3O)O)O       1  \n",
       "24   C1CC1NC2=C3C(=NC(=N2)N)N(C=N3)[C@@H]4C[C@@H](C...       1  \n",
       "..                                                 ...     ...  \n",
       "416                                 C1CC(CCC1CN)C(=O)O       0  \n",
       "417                CN(C)CC(C1=CC=C(C=C1)OC)C2(CCCCC2)O       0  \n",
       "418               C1C[C@@H](O[C@@H]1CO)N2C=CC(=NC2=O)N       0  \n",
       "419  CC(=O)N[C@@H]1[C@H](C=C(O[C@H]1[C@@H]([C@@H](C...       0  \n",
       "420  CC1=CN(C(=O)NC1=O)[C@H]2C[C@@H]([C@H](O2)CO)N=...       0  \n",
       "\n",
       "[304 rows x 4 columns]"
      ]
     },
     "execution_count": 69,
     "metadata": {},
     "output_type": "execute_result"
    }
   ],
   "source": [
    "binding_data_wo_na"
   ]
  },
  {
   "cell_type": "code",
   "execution_count": 70,
   "metadata": {},
   "outputs": [],
   "source": [
    "binding_data_wo_na = binding_data_wo_na[['smiles', 'active']]"
   ]
  },
  {
   "cell_type": "code",
   "execution_count": 71,
   "metadata": {},
   "outputs": [
    {
     "data": {
      "text/html": [
       "<div>\n",
       "<style scoped>\n",
       "    .dataframe tbody tr th:only-of-type {\n",
       "        vertical-align: middle;\n",
       "    }\n",
       "\n",
       "    .dataframe tbody tr th {\n",
       "        vertical-align: top;\n",
       "    }\n",
       "\n",
       "    .dataframe thead th {\n",
       "        text-align: right;\n",
       "    }\n",
       "</style>\n",
       "<table border=\"1\" class=\"dataframe\">\n",
       "  <thead>\n",
       "    <tr style=\"text-align: right;\">\n",
       "      <th></th>\n",
       "      <th>smiles</th>\n",
       "      <th>active</th>\n",
       "    </tr>\n",
       "  </thead>\n",
       "  <tbody>\n",
       "    <tr>\n",
       "      <th>11</th>\n",
       "      <td>CC(=O)C1=CC2=CC=CC=C2OC1=O</td>\n",
       "      <td>1</td>\n",
       "    </tr>\n",
       "    <tr>\n",
       "      <th>13</th>\n",
       "      <td>C1COC2=CC=CC=C2C1O</td>\n",
       "      <td>1</td>\n",
       "    </tr>\n",
       "    <tr>\n",
       "      <th>14</th>\n",
       "      <td>C1=CC=C2C(=C1)C(=CC(=O)O2)O</td>\n",
       "      <td>1</td>\n",
       "    </tr>\n",
       "    <tr>\n",
       "      <th>23</th>\n",
       "      <td>C1=CC(=CC=C1C2=COC3=C(C2=O)C=CC(=C3O)O)O</td>\n",
       "      <td>1</td>\n",
       "    </tr>\n",
       "    <tr>\n",
       "      <th>24</th>\n",
       "      <td>C1CC1NC2=C3C(=NC(=N2)N)N(C=N3)[C@@H]4C[C@@H](C...</td>\n",
       "      <td>1</td>\n",
       "    </tr>\n",
       "    <tr>\n",
       "      <th>...</th>\n",
       "      <td>...</td>\n",
       "      <td>...</td>\n",
       "    </tr>\n",
       "    <tr>\n",
       "      <th>416</th>\n",
       "      <td>C1CC(CCC1CN)C(=O)O</td>\n",
       "      <td>0</td>\n",
       "    </tr>\n",
       "    <tr>\n",
       "      <th>417</th>\n",
       "      <td>CN(C)CC(C1=CC=C(C=C1)OC)C2(CCCCC2)O</td>\n",
       "      <td>0</td>\n",
       "    </tr>\n",
       "    <tr>\n",
       "      <th>418</th>\n",
       "      <td>C1C[C@@H](O[C@@H]1CO)N2C=CC(=NC2=O)N</td>\n",
       "      <td>0</td>\n",
       "    </tr>\n",
       "    <tr>\n",
       "      <th>419</th>\n",
       "      <td>CC(=O)N[C@@H]1[C@H](C=C(O[C@H]1[C@@H]([C@@H](C...</td>\n",
       "      <td>0</td>\n",
       "    </tr>\n",
       "    <tr>\n",
       "      <th>420</th>\n",
       "      <td>CC1=CN(C(=O)NC1=O)[C@H]2C[C@@H]([C@H](O2)CO)N=...</td>\n",
       "      <td>0</td>\n",
       "    </tr>\n",
       "  </tbody>\n",
       "</table>\n",
       "<p>304 rows × 2 columns</p>\n",
       "</div>"
      ],
      "text/plain": [
       "                                                smiles  active\n",
       "11                          CC(=O)C1=CC2=CC=CC=C2OC1=O       1\n",
       "13                                  C1COC2=CC=CC=C2C1O       1\n",
       "14                         C1=CC=C2C(=C1)C(=CC(=O)O2)O       1\n",
       "23            C1=CC(=CC=C1C2=COC3=C(C2=O)C=CC(=C3O)O)O       1\n",
       "24   C1CC1NC2=C3C(=NC(=N2)N)N(C=N3)[C@@H]4C[C@@H](C...       1\n",
       "..                                                 ...     ...\n",
       "416                                 C1CC(CCC1CN)C(=O)O       0\n",
       "417                CN(C)CC(C1=CC=C(C=C1)OC)C2(CCCCC2)O       0\n",
       "418               C1C[C@@H](O[C@@H]1CO)N2C=CC(=NC2=O)N       0\n",
       "419  CC(=O)N[C@@H]1[C@H](C=C(O[C@H]1[C@@H]([C@@H](C...       0\n",
       "420  CC1=CN(C(=O)NC1=O)[C@H]2C[C@@H]([C@H](O2)CO)N=...       0\n",
       "\n",
       "[304 rows x 2 columns]"
      ]
     },
     "execution_count": 71,
     "metadata": {},
     "output_type": "execute_result"
    }
   ],
   "source": [
    "binding_data_wo_na"
   ]
  },
  {
   "cell_type": "code",
   "execution_count": 72,
   "metadata": {},
   "outputs": [],
   "source": [
    "binding_data_wo_na.to_csv('../data/lexa_preprocessed.csv', index=False)"
   ]
  },
  {
   "cell_type": "code",
   "execution_count": null,
   "metadata": {},
   "outputs": [],
   "source": []
  }
 ],
 "metadata": {
  "kernelspec": {
   "display_name": "rdkitEnv",
   "language": "python",
   "name": "rdkitenv"
  },
  "language_info": {
   "codemirror_mode": {
    "name": "ipython",
    "version": 3
   },
   "file_extension": ".py",
   "mimetype": "text/x-python",
   "name": "python",
   "nbconvert_exporter": "python",
   "pygments_lexer": "ipython3",
   "version": "3.9.5"
  }
 },
 "nbformat": 4,
 "nbformat_minor": 4
}
