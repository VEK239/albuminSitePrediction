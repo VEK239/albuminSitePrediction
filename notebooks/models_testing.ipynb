{
 "cells": [
  {
   "cell_type": "markdown",
   "metadata": {},
   "source": [
    "## Data split"
   ]
  },
  {
   "cell_type": "code",
   "execution_count": 1,
   "metadata": {},
   "outputs": [],
   "source": [
    "import os,sys,inspect\n",
    "currentdir = os.path.dirname(os.path.abspath(inspect.getfile(inspect.currentframe())))\n",
    "parentdir = os.path.dirname(currentdir)\n",
    "sys.path.insert(0,parentdir) "
   ]
  },
  {
   "cell_type": "code",
   "execution_count": 2,
   "metadata": {},
   "outputs": [],
   "source": [
    "from scripts.baseline_model import MoleculeModel\n",
    "from collections import defaultdict\n",
    "from tqdm.notebook import tqdm"
   ]
  },
  {
   "cell_type": "code",
   "execution_count": 3,
   "metadata": {},
   "outputs": [],
   "source": [
    "import pandas as pd"
   ]
  },
  {
   "cell_type": "code",
   "execution_count": 4,
   "metadata": {},
   "outputs": [],
   "source": [
    "data = pd.read_csv('../data/merged_final_dataset.csv')"
   ]
  },
  {
   "cell_type": "code",
   "execution_count": 5,
   "metadata": {},
   "outputs": [
    {
     "data": {
      "text/html": [
       "<div>\n",
       "<style scoped>\n",
       "    .dataframe tbody tr th:only-of-type {\n",
       "        vertical-align: middle;\n",
       "    }\n",
       "\n",
       "    .dataframe tbody tr th {\n",
       "        vertical-align: top;\n",
       "    }\n",
       "\n",
       "    .dataframe thead th {\n",
       "        text-align: right;\n",
       "    }\n",
       "</style>\n",
       "<table border=\"1\" class=\"dataframe\">\n",
       "  <thead>\n",
       "    <tr style=\"text-align: right;\">\n",
       "      <th></th>\n",
       "      <th>index</th>\n",
       "      <th>smiles</th>\n",
       "      <th>active</th>\n",
       "    </tr>\n",
       "  </thead>\n",
       "  <tbody>\n",
       "    <tr>\n",
       "      <th>0</th>\n",
       "      <td>0</td>\n",
       "      <td>CC(=O)C1=CC2=CC=CC=C2OC1=O</td>\n",
       "      <td>1</td>\n",
       "    </tr>\n",
       "    <tr>\n",
       "      <th>1</th>\n",
       "      <td>1</td>\n",
       "      <td>C1COC2=CC=CC=C2C1O</td>\n",
       "      <td>1</td>\n",
       "    </tr>\n",
       "    <tr>\n",
       "      <th>2</th>\n",
       "      <td>2</td>\n",
       "      <td>C1=CC=C2C(=C1)C(=CC(=O)O2)O</td>\n",
       "      <td>1</td>\n",
       "    </tr>\n",
       "    <tr>\n",
       "      <th>3</th>\n",
       "      <td>3</td>\n",
       "      <td>C1=CC(=CC=C1C2=COC3=C(C2=O)C=CC(=C3O)O)O</td>\n",
       "      <td>1</td>\n",
       "    </tr>\n",
       "    <tr>\n",
       "      <th>4</th>\n",
       "      <td>4</td>\n",
       "      <td>C1CC1NC2=C3C(=NC(=N2)N)N(C=N3)[C@@H]4C[C@@H](C...</td>\n",
       "      <td>1</td>\n",
       "    </tr>\n",
       "    <tr>\n",
       "      <th>...</th>\n",
       "      <td>...</td>\n",
       "      <td>...</td>\n",
       "      <td>...</td>\n",
       "    </tr>\n",
       "    <tr>\n",
       "      <th>481</th>\n",
       "      <td>139</td>\n",
       "      <td>COC1=C(C=C(C=C1)CNC2=NC(=NC=C2C(=O)NCC3=NC=CC=...</td>\n",
       "      <td>1</td>\n",
       "    </tr>\n",
       "    <tr>\n",
       "      <th>482</th>\n",
       "      <td>140</td>\n",
       "      <td>CN1C[C@@H]2[C@@H](C1)C3=C(C=CC(=C3)Cl)OC4=CC=C...</td>\n",
       "      <td>1</td>\n",
       "    </tr>\n",
       "    <tr>\n",
       "      <th>483</th>\n",
       "      <td>141</td>\n",
       "      <td>CC#CC(=O)N1CCC[C@H]1C2=NC(=C3N2C=CN=C3N)C4=CC=...</td>\n",
       "      <td>1</td>\n",
       "    </tr>\n",
       "    <tr>\n",
       "      <th>484</th>\n",
       "      <td>142</td>\n",
       "      <td>CC1=C(SC(=N1)NC(=O)N2CCC[C@H]2C(=O)N)C3=CC(=NC...</td>\n",
       "      <td>1</td>\n",
       "    </tr>\n",
       "    <tr>\n",
       "      <th>485</th>\n",
       "      <td>143</td>\n",
       "      <td>CCCCC[C@@H](/C=C/[C@H]1[C@@H](CC(=O)[C@@H]1CCC...</td>\n",
       "      <td>1</td>\n",
       "    </tr>\n",
       "  </tbody>\n",
       "</table>\n",
       "<p>486 rows × 3 columns</p>\n",
       "</div>"
      ],
      "text/plain": [
       "     index                                             smiles  active\n",
       "0        0                         CC(=O)C1=CC2=CC=CC=C2OC1=O       1\n",
       "1        1                                 C1COC2=CC=CC=C2C1O       1\n",
       "2        2                        C1=CC=C2C(=C1)C(=CC(=O)O2)O       1\n",
       "3        3           C1=CC(=CC=C1C2=COC3=C(C2=O)C=CC(=C3O)O)O       1\n",
       "4        4  C1CC1NC2=C3C(=NC(=N2)N)N(C=N3)[C@@H]4C[C@@H](C...       1\n",
       "..     ...                                                ...     ...\n",
       "481    139  COC1=C(C=C(C=C1)CNC2=NC(=NC=C2C(=O)NCC3=NC=CC=...       1\n",
       "482    140  CN1C[C@@H]2[C@@H](C1)C3=C(C=CC(=C3)Cl)OC4=CC=C...       1\n",
       "483    141  CC#CC(=O)N1CCC[C@H]1C2=NC(=C3N2C=CN=C3N)C4=CC=...       1\n",
       "484    142  CC1=C(SC(=N1)NC(=O)N2CCC[C@H]2C(=O)N)C3=CC(=NC...       1\n",
       "485    143  CCCCC[C@@H](/C=C/[C@H]1[C@@H](CC(=O)[C@@H]1CCC...       1\n",
       "\n",
       "[486 rows x 3 columns]"
      ]
     },
     "execution_count": 5,
     "metadata": {},
     "output_type": "execute_result"
    }
   ],
   "source": [
    "data"
   ]
  },
  {
   "cell_type": "code",
   "execution_count": 6,
   "metadata": {},
   "outputs": [],
   "source": [
    "TARGET_COLUMN = 'active'"
   ]
  },
  {
   "cell_type": "code",
   "execution_count": null,
   "metadata": {},
   "outputs": [
    {
     "data": {
      "application/vnd.jupyter.widget-view+json": {
       "model_id": "c8fe9756f70c40e8813a4c034ab4c7ba",
       "version_major": 2,
       "version_minor": 0
      },
      "text/plain": [
       "  0%|          | 0/486 [00:00<?, ?it/s]"
      ]
     },
     "metadata": {},
     "output_type": "display_data"
    }
   ],
   "source": [
    "features = defaultdict(list)\n",
    "for smi in tqdm(data.smiles):\n",
    "    mol = MoleculeModel(smi, count=False)\n",
    "    representation = mol.get_mol_representation()\n",
    "    \n",
    "    fp = representation['fingerprint']\n",
    "    for i in fp:\n",
    "        bit = fp[i]\n",
    "        features['f' + str(i)].append(bit)\n",
    "    descriptors = representation['descriptors_padel']\n",
    "    for k, v in descriptors.items():\n",
    "        features[k].append(v)\n",
    "\n",
    "for k, v in features.items():\n",
    "    data[k] = pd.Series(v)"
   ]
  },
  {
   "cell_type": "code",
   "execution_count": null,
   "metadata": {},
   "outputs": [],
   "source": [
    "data"
   ]
  },
  {
   "cell_type": "code",
   "execution_count": null,
   "metadata": {},
   "outputs": [],
   "source": [
    "data = data.dropna()"
   ]
  },
  {
   "cell_type": "code",
   "execution_count": null,
   "metadata": {},
   "outputs": [],
   "source": [
    "from sklearn.model_selection import train_test_split, StratifiedKFold\n",
    "from sklearn.preprocessing import MinMaxScaler\n",
    "\n",
    "y = data[TARGET_COLUMN]\n",
    "\n",
    "X = data.drop(columns = [TARGET_COLUMN, 'smiles'])\n",
    "X = MinMaxScaler().fit_transform(X) # added the scaler\n",
    "\n",
    "X_train_val,  X_test, y_train_val, y_test = train_test_split(X, y, train_size = 0.8, random_state = 42, shuffle = True, stratify = None)\n",
    "\n",
    "skf = StratifiedKFold(n_splits=4,  random_state=42, shuffle=True)"
   ]
  },
  {
   "cell_type": "markdown",
   "metadata": {},
   "source": [
    "## Models creating"
   ]
  },
  {
   "cell_type": "code",
   "execution_count": null,
   "metadata": {},
   "outputs": [],
   "source": [
    "def get_model(model):\n",
    "    '''\n",
    "    Get the model from six state-of-the-art machine learning models.\n",
    "    '''\n",
    "    if model=='svm':\n",
    "        from sklearn.svm import SVC\n",
    "        names = [\"Linear SVM\"]\n",
    "        classifiers = [\n",
    "        SVC()    \n",
    "        ]\n",
    "    elif model=='ab':\n",
    "        from sklearn.ensemble import AdaBoostClassifier\n",
    "        names = [\"AdaBoost\"]\n",
    "        classifiers = [\n",
    "        AdaBoostClassifier() \n",
    "        ]\n",
    "    elif model=='knn':\n",
    "        from sklearn.neighbors import KNeighborsClassifier\n",
    "        names = [\"K-Nearest Neighbors\"]\n",
    "        classifiers = [\n",
    "        KNeighborsClassifier()\n",
    "        ]\n",
    "    elif model=='dt':\n",
    "        from sklearn.tree import DecisionTreeClassifier\n",
    "        names = [\"Decision Tree\"]\n",
    "        classifiers = [\n",
    "        DecisionTreeClassifier()   \n",
    "        ]\n",
    "    elif model=='nb':\n",
    "        from sklearn.naive_bayes import GaussianNB\n",
    "        names = [\"Naive Bayes\"]\n",
    "        classifiers = [\n",
    "         GaussianNB()   \n",
    "        ]\n",
    "    elif model=='rfc':\n",
    "        from sklearn.ensemble import RandomForestClassifier\n",
    "        names = [\"Random Forest\"]\n",
    "        classifiers = [\n",
    "        RandomForestClassifier()\n",
    "        ]\n",
    "    elif model=='xgboost':\n",
    "        from xgboost import XGBClassifier\n",
    "        names = [\"XGBoost\"]\n",
    "        classifiers = [\n",
    "        XGBClassifier()\n",
    "        ]\n",
    "    elif model=='mlpclassifier':\n",
    "        from sklearn.neural_network import MLPClassifier\n",
    "        names = [\"MLPClassifier\"]\n",
    "        classifiers = [\n",
    "        MLPClassifier()\n",
    "        ]\n",
    "    else:\n",
    "        raise RuntimeError('Unknown classifier')\n",
    "    \n",
    "    return classifiers"
   ]
  },
  {
   "cell_type": "markdown",
   "metadata": {},
   "source": [
    "## Parameters list"
   ]
  },
  {
   "cell_type": "code",
   "execution_count": null,
   "metadata": {},
   "outputs": [],
   "source": [
    "parameters = {\n",
    "              'svm': {'model__C': (1, 5, 10, 50, 100), 'model__probability': [True]}, \n",
    "              'ab': {'model__n_estimators': (10, 25, 50, 100, 125, 150, 200)}, \n",
    "              'knn': {'model__n_neighbors': (3, 5, 10, 50, 75, 100), 'model__leaf_size': (1, 2, 3, 5, 10, 15, 20), \n",
    "                      'model__weights': ['uniform', 'distance']}, \n",
    "              'dt': {'model__max_depth': (10, 25, 50, 100), 'model__min_samples_leaf': (1, 3, 5, 10)}, \n",
    "              'nb': {}, \n",
    "              'rfc': {'model__max_depth': (2, 3, 5, 7, 10), 'model__n_estimators': (50, 100, 150, 200),\n",
    "                     'model__min_samples_leaf': (1, 3, 5, 10)},\n",
    "              'mlpclassifier': {'model__hidden_layer_sizes': (\n",
    "                                  (100, 60, 30, 10), \n",
    "                                  (150, 100, 50, 25, 10),\n",
    "                                  (100, 50, 25, 10)),\n",
    "                                'model__alpha': (0.0001, 0.001, 0.00001, 0.01), \n",
    "                                'model__learning_rate': ['constant', 'adaptive'],\n",
    "                               },\n",
    "              'xgboost': {'model__n_estimators': (10, 25, 50, 100)}\n",
    "            }"
   ]
  },
  {
   "cell_type": "markdown",
   "metadata": {},
   "source": [
    "## Evaluating"
   ]
  },
  {
   "cell_type": "code",
   "execution_count": null,
   "metadata": {},
   "outputs": [],
   "source": [
    "from imblearn.pipeline import Pipeline, make_pipeline\n",
    "from sklearn.model_selection import GridSearchCV\n",
    "from sklearn.metrics import roc_auc_score, f1_score, accuracy_score\n",
    "from imblearn.over_sampling import SMOTE"
   ]
  },
  {
   "cell_type": "code",
   "execution_count": null,
   "metadata": {
    "scrolled": false
   },
   "outputs": [],
   "source": [
    "best_clfs_encode = {}\n",
    "for name, param in parameters.items():\n",
    "    model = get_model(name)[0]\n",
    "\n",
    "    param['over__k_neighbors'] = (1, 3, 5, 10, 15, 20, 25)\n",
    "    over = SMOTE(sampling_strategy=1)\n",
    "    steps = [('over', over), ('model', model)]\n",
    "    \n",
    "#     steps = [('model', model)]\n",
    "\n",
    "    pipeline = Pipeline(steps=steps)\n",
    "    clf = GridSearchCV(pipeline, param, scoring='roc_auc', cv=skf, n_jobs=-1)\n",
    "    clf.fit(X_train_val, y_train_val)\n",
    "\n",
    "    print(f'Best params for {name}:', clf.best_params_)\n",
    "    pipe = clf.best_estimator_['model']\n",
    "\n",
    "    print('Test ROC AUC for the best model %.2f' % roc_auc_score(y_test, pipe.predict_proba(X_test)[:,1]))\n",
    "    print('Test accuracy for the best model %.2f' % accuracy_score(y_test, pipe.predict(X_test)))\n",
    "    print('Test f1-score for the best model %.2f' % f1_score(y_test, pipe.predict(X_test)))\n",
    "    print()\n",
    "    best_clfs_encode[name] = clf.best_estimator_"
   ]
  },
  {
   "cell_type": "code",
   "execution_count": null,
   "metadata": {},
   "outputs": [],
   "source": []
  }
 ],
 "metadata": {
  "kernelspec": {
   "display_name": "rdkitEnv",
   "language": "python",
   "name": "rdkitenv"
  },
  "language_info": {
   "codemirror_mode": {
    "name": "ipython",
    "version": 3
   },
   "file_extension": ".py",
   "mimetype": "text/x-python",
   "name": "python",
   "nbconvert_exporter": "python",
   "pygments_lexer": "ipython3",
   "version": "3.9.5"
  }
 },
 "nbformat": 4,
 "nbformat_minor": 4
}
